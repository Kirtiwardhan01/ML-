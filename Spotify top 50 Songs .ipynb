{
 "cells": [
  {
   "cell_type": "markdown",
   "metadata": {},
   "source": [
    "### The dataset is about Spotify 2019 Top 50 list and I'm trying to use visualizations to answer them"
   ]
  },
  {
   "cell_type": "code",
   "execution_count": 1,
   "metadata": {},
   "outputs": [],
   "source": [
    "#Importing relevant libraries\n",
    "\n",
    "import warnings\n",
    "from warnings import filterwarnings\n",
    "\n",
    "import numpy as np\n",
    "import pandas as pd\n",
    "import pandas_profiling as pp\n",
    "import matplotlib.pyplot as plt\n",
    "import seaborn as sns\n",
    "\n",
    "%matplotlib inline"
   ]
  },
  {
   "cell_type": "code",
   "execution_count": 2,
   "metadata": {},
   "outputs": [],
   "source": [
    "#Loading and reading the dataset \n",
    "songs = pd.read_csv(r\"C:\\Users\\hp\\Desktop\\kirtiwardhan\\Datasets\\top50.csv\",encoding='latin-1')"
   ]
  },
  {
   "cell_type": "code",
   "execution_count": 3,
   "metadata": {},
   "outputs": [
    {
     "data": {
      "text/html": [
       "<div>\n",
       "<style scoped>\n",
       "    .dataframe tbody tr th:only-of-type {\n",
       "        vertical-align: middle;\n",
       "    }\n",
       "\n",
       "    .dataframe tbody tr th {\n",
       "        vertical-align: top;\n",
       "    }\n",
       "\n",
       "    .dataframe thead th {\n",
       "        text-align: right;\n",
       "    }\n",
       "</style>\n",
       "<table border=\"1\" class=\"dataframe\">\n",
       "  <thead>\n",
       "    <tr style=\"text-align: right;\">\n",
       "      <th></th>\n",
       "      <th>Unnamed: 0</th>\n",
       "      <th>Track.Name</th>\n",
       "      <th>Artist.Name</th>\n",
       "      <th>Genre</th>\n",
       "      <th>Beats.Per.Minute</th>\n",
       "      <th>Energy</th>\n",
       "      <th>Danceability</th>\n",
       "      <th>Loudness..dB..</th>\n",
       "      <th>Liveness</th>\n",
       "      <th>Valence.</th>\n",
       "      <th>Length.</th>\n",
       "      <th>Acousticness..</th>\n",
       "      <th>Speechiness.</th>\n",
       "      <th>Popularity</th>\n",
       "    </tr>\n",
       "  </thead>\n",
       "  <tbody>\n",
       "    <tr>\n",
       "      <th>0</th>\n",
       "      <td>1</td>\n",
       "      <td>Señorita</td>\n",
       "      <td>Shawn Mendes</td>\n",
       "      <td>canadian pop</td>\n",
       "      <td>117</td>\n",
       "      <td>55</td>\n",
       "      <td>76</td>\n",
       "      <td>-6</td>\n",
       "      <td>8</td>\n",
       "      <td>75</td>\n",
       "      <td>191</td>\n",
       "      <td>4</td>\n",
       "      <td>3</td>\n",
       "      <td>79</td>\n",
       "    </tr>\n",
       "    <tr>\n",
       "      <th>1</th>\n",
       "      <td>2</td>\n",
       "      <td>China</td>\n",
       "      <td>Anuel AA</td>\n",
       "      <td>reggaeton flow</td>\n",
       "      <td>105</td>\n",
       "      <td>81</td>\n",
       "      <td>79</td>\n",
       "      <td>-4</td>\n",
       "      <td>8</td>\n",
       "      <td>61</td>\n",
       "      <td>302</td>\n",
       "      <td>8</td>\n",
       "      <td>9</td>\n",
       "      <td>92</td>\n",
       "    </tr>\n",
       "    <tr>\n",
       "      <th>2</th>\n",
       "      <td>3</td>\n",
       "      <td>boyfriend (with Social House)</td>\n",
       "      <td>Ariana Grande</td>\n",
       "      <td>dance pop</td>\n",
       "      <td>190</td>\n",
       "      <td>80</td>\n",
       "      <td>40</td>\n",
       "      <td>-4</td>\n",
       "      <td>16</td>\n",
       "      <td>70</td>\n",
       "      <td>186</td>\n",
       "      <td>12</td>\n",
       "      <td>46</td>\n",
       "      <td>85</td>\n",
       "    </tr>\n",
       "    <tr>\n",
       "      <th>3</th>\n",
       "      <td>4</td>\n",
       "      <td>Beautiful People (feat. Khalid)</td>\n",
       "      <td>Ed Sheeran</td>\n",
       "      <td>pop</td>\n",
       "      <td>93</td>\n",
       "      <td>65</td>\n",
       "      <td>64</td>\n",
       "      <td>-8</td>\n",
       "      <td>8</td>\n",
       "      <td>55</td>\n",
       "      <td>198</td>\n",
       "      <td>12</td>\n",
       "      <td>19</td>\n",
       "      <td>86</td>\n",
       "    </tr>\n",
       "    <tr>\n",
       "      <th>4</th>\n",
       "      <td>5</td>\n",
       "      <td>Goodbyes (Feat. Young Thug)</td>\n",
       "      <td>Post Malone</td>\n",
       "      <td>dfw rap</td>\n",
       "      <td>150</td>\n",
       "      <td>65</td>\n",
       "      <td>58</td>\n",
       "      <td>-4</td>\n",
       "      <td>11</td>\n",
       "      <td>18</td>\n",
       "      <td>175</td>\n",
       "      <td>45</td>\n",
       "      <td>7</td>\n",
       "      <td>94</td>\n",
       "    </tr>\n",
       "  </tbody>\n",
       "</table>\n",
       "</div>"
      ],
      "text/plain": [
       "   Unnamed: 0                       Track.Name    Artist.Name           Genre  \\\n",
       "0           1                         Señorita   Shawn Mendes    canadian pop   \n",
       "1           2                            China       Anuel AA  reggaeton flow   \n",
       "2           3    boyfriend (with Social House)  Ariana Grande       dance pop   \n",
       "3           4  Beautiful People (feat. Khalid)     Ed Sheeran             pop   \n",
       "4           5      Goodbyes (Feat. Young Thug)    Post Malone         dfw rap   \n",
       "\n",
       "   Beats.Per.Minute  Energy  Danceability  Loudness..dB..  Liveness  Valence.  \\\n",
       "0               117      55            76              -6         8        75   \n",
       "1               105      81            79              -4         8        61   \n",
       "2               190      80            40              -4        16        70   \n",
       "3                93      65            64              -8         8        55   \n",
       "4               150      65            58              -4        11        18   \n",
       "\n",
       "   Length.  Acousticness..  Speechiness.  Popularity  \n",
       "0      191               4             3          79  \n",
       "1      302               8             9          92  \n",
       "2      186              12            46          85  \n",
       "3      198              12            19          86  \n",
       "4      175              45             7          94  "
      ]
     },
     "execution_count": 3,
     "metadata": {},
     "output_type": "execute_result"
    }
   ],
   "source": [
    "#Viweing the top 5 observations with the function head()\n",
    "songs.head()"
   ]
  },
  {
   "cell_type": "code",
   "execution_count": 4,
   "metadata": {},
   "outputs": [
    {
     "name": "stdout",
     "output_type": "stream",
     "text": [
      "<class 'pandas.core.frame.DataFrame'>\n",
      "RangeIndex: 50 entries, 0 to 49\n",
      "Data columns (total 14 columns):\n",
      "Unnamed: 0          50 non-null int64\n",
      "Track.Name          50 non-null object\n",
      "Artist.Name         50 non-null object\n",
      "Genre               50 non-null object\n",
      "Beats.Per.Minute    50 non-null int64\n",
      "Energy              50 non-null int64\n",
      "Danceability        50 non-null int64\n",
      "Loudness..dB..      50 non-null int64\n",
      "Liveness            50 non-null int64\n",
      "Valence.            50 non-null int64\n",
      "Length.             50 non-null int64\n",
      "Acousticness..      50 non-null int64\n",
      "Speechiness.        50 non-null int64\n",
      "Popularity          50 non-null int64\n",
      "dtypes: int64(11), object(3)\n",
      "memory usage: 5.5+ KB\n"
     ]
    }
   ],
   "source": [
    "#With use of info() we can see the entire information of the dataset \n",
    "songs.info()"
   ]
  },
  {
   "cell_type": "markdown",
   "metadata": {},
   "source": [
    "#### Pandas_Profiling is an awesome tool to autmate EDA"
   ]
  },
  {
   "cell_type": "code",
   "execution_count": 5,
   "metadata": {},
   "outputs": [],
   "source": [
    "#Making a report of the dataset songs\n",
    "report = pp.ProfileReport(songs)"
   ]
  },
  {
   "cell_type": "code",
   "execution_count": 6,
   "metadata": {},
   "outputs": [],
   "source": [
    "#Saving the report in html format\n",
    "report.to_file(\"songs.html\")"
   ]
  },
  {
   "cell_type": "code",
   "execution_count": 7,
   "metadata": {},
   "outputs": [],
   "source": [
    "#Droping the column as it serve no importance in analysis\n",
    "songs.drop(columns=('Unnamed_0'),inplace=True)"
   ]
  },
  {
   "cell_type": "code",
   "execution_count": 8,
   "metadata": {},
   "outputs": [
    {
     "data": {
      "text/html": [
       "<div>\n",
       "<style scoped>\n",
       "    .dataframe tbody tr th:only-of-type {\n",
       "        vertical-align: middle;\n",
       "    }\n",
       "\n",
       "    .dataframe tbody tr th {\n",
       "        vertical-align: top;\n",
       "    }\n",
       "\n",
       "    .dataframe thead th {\n",
       "        text-align: right;\n",
       "    }\n",
       "</style>\n",
       "<table border=\"1\" class=\"dataframe\">\n",
       "  <thead>\n",
       "    <tr style=\"text-align: right;\">\n",
       "      <th></th>\n",
       "      <th></th>\n",
       "      <th></th>\n",
       "      <th>Beats.Per.Minute</th>\n",
       "      <th>Energy</th>\n",
       "      <th>Danceability</th>\n",
       "      <th>Loudness..dB..</th>\n",
       "      <th>Liveness</th>\n",
       "      <th>Valence.</th>\n",
       "      <th>Length.</th>\n",
       "      <th>Acousticness..</th>\n",
       "      <th>Speechiness.</th>\n",
       "      <th>Popularity</th>\n",
       "    </tr>\n",
       "    <tr>\n",
       "      <th>Track.Name</th>\n",
       "      <th>Artist.Name</th>\n",
       "      <th>Genre</th>\n",
       "      <th></th>\n",
       "      <th></th>\n",
       "      <th></th>\n",
       "      <th></th>\n",
       "      <th></th>\n",
       "      <th></th>\n",
       "      <th></th>\n",
       "      <th></th>\n",
       "      <th></th>\n",
       "      <th></th>\n",
       "    </tr>\n",
       "  </thead>\n",
       "  <tbody>\n",
       "    <tr>\n",
       "      <th>0.958333333333333</th>\n",
       "      <th>Maluma</th>\n",
       "      <th>reggaeton</th>\n",
       "      <td>96</td>\n",
       "      <td>71</td>\n",
       "      <td>78</td>\n",
       "      <td>-5</td>\n",
       "      <td>9</td>\n",
       "      <td>68</td>\n",
       "      <td>176</td>\n",
       "      <td>22</td>\n",
       "      <td>28</td>\n",
       "      <td>89</td>\n",
       "    </tr>\n",
       "    <tr>\n",
       "      <th>7 rings</th>\n",
       "      <th>Ariana Grande</th>\n",
       "      <th>dance pop</th>\n",
       "      <td>140</td>\n",
       "      <td>32</td>\n",
       "      <td>78</td>\n",
       "      <td>-11</td>\n",
       "      <td>9</td>\n",
       "      <td>33</td>\n",
       "      <td>179</td>\n",
       "      <td>59</td>\n",
       "      <td>33</td>\n",
       "      <td>89</td>\n",
       "    </tr>\n",
       "    <tr>\n",
       "      <th>Antisocial (with Travis Scott)</th>\n",
       "      <th>Ed Sheeran</th>\n",
       "      <th>pop</th>\n",
       "      <td>152</td>\n",
       "      <td>82</td>\n",
       "      <td>72</td>\n",
       "      <td>-5</td>\n",
       "      <td>36</td>\n",
       "      <td>91</td>\n",
       "      <td>162</td>\n",
       "      <td>13</td>\n",
       "      <td>5</td>\n",
       "      <td>87</td>\n",
       "    </tr>\n",
       "    <tr>\n",
       "      <th>Beautiful People (feat. Khalid)</th>\n",
       "      <th>Ed Sheeran</th>\n",
       "      <th>pop</th>\n",
       "      <td>93</td>\n",
       "      <td>65</td>\n",
       "      <td>64</td>\n",
       "      <td>-8</td>\n",
       "      <td>8</td>\n",
       "      <td>55</td>\n",
       "      <td>198</td>\n",
       "      <td>12</td>\n",
       "      <td>19</td>\n",
       "      <td>86</td>\n",
       "    </tr>\n",
       "    <tr>\n",
       "      <th>Call You Mine</th>\n",
       "      <th>The Chainsmokers</th>\n",
       "      <th>edm</th>\n",
       "      <td>104</td>\n",
       "      <td>70</td>\n",
       "      <td>59</td>\n",
       "      <td>-6</td>\n",
       "      <td>41</td>\n",
       "      <td>50</td>\n",
       "      <td>218</td>\n",
       "      <td>23</td>\n",
       "      <td>3</td>\n",
       "      <td>88</td>\n",
       "    </tr>\n",
       "    <tr>\n",
       "      <th>Callaita</th>\n",
       "      <th>Bad Bunny</th>\n",
       "      <th>reggaeton</th>\n",
       "      <td>176</td>\n",
       "      <td>62</td>\n",
       "      <td>61</td>\n",
       "      <td>-5</td>\n",
       "      <td>24</td>\n",
       "      <td>24</td>\n",
       "      <td>251</td>\n",
       "      <td>60</td>\n",
       "      <td>31</td>\n",
       "      <td>93</td>\n",
       "    </tr>\n",
       "    <tr>\n",
       "      <th>China</th>\n",
       "      <th>Anuel AA</th>\n",
       "      <th>reggaeton flow</th>\n",
       "      <td>105</td>\n",
       "      <td>81</td>\n",
       "      <td>79</td>\n",
       "      <td>-4</td>\n",
       "      <td>8</td>\n",
       "      <td>61</td>\n",
       "      <td>302</td>\n",
       "      <td>8</td>\n",
       "      <td>9</td>\n",
       "      <td>92</td>\n",
       "    </tr>\n",
       "    <tr>\n",
       "      <th>Con Altura</th>\n",
       "      <th>ROSALÍA</th>\n",
       "      <th>r&amp;b en espanol</th>\n",
       "      <td>98</td>\n",
       "      <td>69</td>\n",
       "      <td>88</td>\n",
       "      <td>-4</td>\n",
       "      <td>5</td>\n",
       "      <td>75</td>\n",
       "      <td>162</td>\n",
       "      <td>39</td>\n",
       "      <td>12</td>\n",
       "      <td>88</td>\n",
       "    </tr>\n",
       "    <tr>\n",
       "      <th>Con Calma</th>\n",
       "      <th>Daddy Yankee</th>\n",
       "      <th>latin</th>\n",
       "      <td>94</td>\n",
       "      <td>86</td>\n",
       "      <td>74</td>\n",
       "      <td>-3</td>\n",
       "      <td>6</td>\n",
       "      <td>66</td>\n",
       "      <td>193</td>\n",
       "      <td>11</td>\n",
       "      <td>6</td>\n",
       "      <td>91</td>\n",
       "    </tr>\n",
       "    <tr>\n",
       "      <th>Cross Me (feat. Chance the Rapper &amp; PnB Rock)</th>\n",
       "      <th>Ed Sheeran</th>\n",
       "      <th>pop</th>\n",
       "      <td>95</td>\n",
       "      <td>79</td>\n",
       "      <td>75</td>\n",
       "      <td>-6</td>\n",
       "      <td>7</td>\n",
       "      <td>61</td>\n",
       "      <td>206</td>\n",
       "      <td>21</td>\n",
       "      <td>12</td>\n",
       "      <td>82</td>\n",
       "    </tr>\n",
       "    <tr>\n",
       "      <th>Dance Monkey</th>\n",
       "      <th>Tones and I</th>\n",
       "      <th>australian pop</th>\n",
       "      <td>98</td>\n",
       "      <td>59</td>\n",
       "      <td>82</td>\n",
       "      <td>-6</td>\n",
       "      <td>18</td>\n",
       "      <td>54</td>\n",
       "      <td>210</td>\n",
       "      <td>69</td>\n",
       "      <td>10</td>\n",
       "      <td>83</td>\n",
       "    </tr>\n",
       "    <tr>\n",
       "      <th>Goodbyes (Feat. Young Thug)</th>\n",
       "      <th>Post Malone</th>\n",
       "      <th>dfw rap</th>\n",
       "      <td>150</td>\n",
       "      <td>65</td>\n",
       "      <td>58</td>\n",
       "      <td>-4</td>\n",
       "      <td>11</td>\n",
       "      <td>18</td>\n",
       "      <td>175</td>\n",
       "      <td>45</td>\n",
       "      <td>7</td>\n",
       "      <td>94</td>\n",
       "    </tr>\n",
       "    <tr>\n",
       "      <th>Happier</th>\n",
       "      <th>Marshmello</th>\n",
       "      <th>brostep</th>\n",
       "      <td>100</td>\n",
       "      <td>79</td>\n",
       "      <td>69</td>\n",
       "      <td>-3</td>\n",
       "      <td>17</td>\n",
       "      <td>67</td>\n",
       "      <td>214</td>\n",
       "      <td>19</td>\n",
       "      <td>5</td>\n",
       "      <td>88</td>\n",
       "    </tr>\n",
       "    <tr>\n",
       "      <th>Higher Love</th>\n",
       "      <th>Kygo</th>\n",
       "      <th>edm</th>\n",
       "      <td>104</td>\n",
       "      <td>68</td>\n",
       "      <td>69</td>\n",
       "      <td>-7</td>\n",
       "      <td>10</td>\n",
       "      <td>40</td>\n",
       "      <td>228</td>\n",
       "      <td>2</td>\n",
       "      <td>3</td>\n",
       "      <td>88</td>\n",
       "    </tr>\n",
       "    <tr>\n",
       "      <th>How Do You Sleep?</th>\n",
       "      <th>Sam Smith</th>\n",
       "      <th>pop</th>\n",
       "      <td>111</td>\n",
       "      <td>68</td>\n",
       "      <td>48</td>\n",
       "      <td>-5</td>\n",
       "      <td>8</td>\n",
       "      <td>35</td>\n",
       "      <td>202</td>\n",
       "      <td>15</td>\n",
       "      <td>9</td>\n",
       "      <td>90</td>\n",
       "    </tr>\n",
       "    <tr>\n",
       "      <th>I Don't Care (with Justin Bieber)</th>\n",
       "      <th>Ed Sheeran</th>\n",
       "      <th>pop</th>\n",
       "      <td>102</td>\n",
       "      <td>68</td>\n",
       "      <td>80</td>\n",
       "      <td>-5</td>\n",
       "      <td>9</td>\n",
       "      <td>84</td>\n",
       "      <td>220</td>\n",
       "      <td>9</td>\n",
       "      <td>4</td>\n",
       "      <td>84</td>\n",
       "    </tr>\n",
       "    <tr>\n",
       "      <th>If I Can't Have You</th>\n",
       "      <th>Shawn Mendes</th>\n",
       "      <th>canadian pop</th>\n",
       "      <td>124</td>\n",
       "      <td>82</td>\n",
       "      <td>69</td>\n",
       "      <td>-4</td>\n",
       "      <td>13</td>\n",
       "      <td>87</td>\n",
       "      <td>191</td>\n",
       "      <td>49</td>\n",
       "      <td>6</td>\n",
       "      <td>70</td>\n",
       "    </tr>\n",
       "    <tr>\n",
       "      <th>It's You</th>\n",
       "      <th>Ali Gatie</th>\n",
       "      <th>canadian hip hop</th>\n",
       "      <td>96</td>\n",
       "      <td>46</td>\n",
       "      <td>73</td>\n",
       "      <td>-7</td>\n",
       "      <td>19</td>\n",
       "      <td>40</td>\n",
       "      <td>213</td>\n",
       "      <td>37</td>\n",
       "      <td>3</td>\n",
       "      <td>89</td>\n",
       "    </tr>\n",
       "    <tr>\n",
       "      <th>LA CANCIÓN</th>\n",
       "      <th>J Balvin</th>\n",
       "      <th>latin</th>\n",
       "      <td>176</td>\n",
       "      <td>65</td>\n",
       "      <td>75</td>\n",
       "      <td>-6</td>\n",
       "      <td>11</td>\n",
       "      <td>43</td>\n",
       "      <td>243</td>\n",
       "      <td>15</td>\n",
       "      <td>32</td>\n",
       "      <td>90</td>\n",
       "    </tr>\n",
       "    <tr>\n",
       "      <th>Lalala</th>\n",
       "      <th>Y2K</th>\n",
       "      <th>canadian hip hop</th>\n",
       "      <td>130</td>\n",
       "      <td>39</td>\n",
       "      <td>84</td>\n",
       "      <td>-8</td>\n",
       "      <td>14</td>\n",
       "      <td>50</td>\n",
       "      <td>161</td>\n",
       "      <td>18</td>\n",
       "      <td>8</td>\n",
       "      <td>88</td>\n",
       "    </tr>\n",
       "    <tr>\n",
       "      <th>Loco Contigo (feat. J. Balvin &amp; Tyga)</th>\n",
       "      <th>DJ Snake</th>\n",
       "      <th>dance pop</th>\n",
       "      <td>96</td>\n",
       "      <td>71</td>\n",
       "      <td>82</td>\n",
       "      <td>-4</td>\n",
       "      <td>15</td>\n",
       "      <td>38</td>\n",
       "      <td>185</td>\n",
       "      <td>28</td>\n",
       "      <td>7</td>\n",
       "      <td>86</td>\n",
       "    </tr>\n",
       "    <tr>\n",
       "      <th>Money In The Grave (Drake ft. Rick Ross)</th>\n",
       "      <th>Drake</th>\n",
       "      <th>canadian hip hop</th>\n",
       "      <td>101</td>\n",
       "      <td>50</td>\n",
       "      <td>83</td>\n",
       "      <td>-4</td>\n",
       "      <td>12</td>\n",
       "      <td>10</td>\n",
       "      <td>205</td>\n",
       "      <td>10</td>\n",
       "      <td>5</td>\n",
       "      <td>92</td>\n",
       "    </tr>\n",
       "    <tr>\n",
       "      <th>Never Really Over</th>\n",
       "      <th>Katy Perry</th>\n",
       "      <th>dance pop</th>\n",
       "      <td>100</td>\n",
       "      <td>88</td>\n",
       "      <td>77</td>\n",
       "      <td>-5</td>\n",
       "      <td>32</td>\n",
       "      <td>39</td>\n",
       "      <td>224</td>\n",
       "      <td>19</td>\n",
       "      <td>6</td>\n",
       "      <td>89</td>\n",
       "    </tr>\n",
       "    <tr>\n",
       "      <th>No Guidance (feat. Drake)</th>\n",
       "      <th>Chris Brown</th>\n",
       "      <th>dance pop</th>\n",
       "      <td>93</td>\n",
       "      <td>45</td>\n",
       "      <td>70</td>\n",
       "      <td>-7</td>\n",
       "      <td>16</td>\n",
       "      <td>14</td>\n",
       "      <td>261</td>\n",
       "      <td>12</td>\n",
       "      <td>15</td>\n",
       "      <td>82</td>\n",
       "    </tr>\n",
       "    <tr>\n",
       "      <th>No Me Conoce - Remix</th>\n",
       "      <th>Jhay Cortez</th>\n",
       "      <th>reggaeton flow</th>\n",
       "      <td>92</td>\n",
       "      <td>79</td>\n",
       "      <td>81</td>\n",
       "      <td>-4</td>\n",
       "      <td>9</td>\n",
       "      <td>58</td>\n",
       "      <td>309</td>\n",
       "      <td>14</td>\n",
       "      <td>7</td>\n",
       "      <td>83</td>\n",
       "    </tr>\n",
       "    <tr>\n",
       "      <th>Old Town Road - Remix</th>\n",
       "      <th>Lil Nas X</th>\n",
       "      <th>country rap</th>\n",
       "      <td>136</td>\n",
       "      <td>62</td>\n",
       "      <td>88</td>\n",
       "      <td>-6</td>\n",
       "      <td>11</td>\n",
       "      <td>64</td>\n",
       "      <td>157</td>\n",
       "      <td>5</td>\n",
       "      <td>10</td>\n",
       "      <td>87</td>\n",
       "    </tr>\n",
       "    <tr>\n",
       "      <th>One Thing Right</th>\n",
       "      <th>Marshmello</th>\n",
       "      <th>brostep</th>\n",
       "      <td>88</td>\n",
       "      <td>62</td>\n",
       "      <td>66</td>\n",
       "      <td>-2</td>\n",
       "      <td>58</td>\n",
       "      <td>44</td>\n",
       "      <td>182</td>\n",
       "      <td>7</td>\n",
       "      <td>5</td>\n",
       "      <td>88</td>\n",
       "    </tr>\n",
       "    <tr>\n",
       "      <th>Otro Trago</th>\n",
       "      <th>Sech</th>\n",
       "      <th>panamanian pop</th>\n",
       "      <td>176</td>\n",
       "      <td>70</td>\n",
       "      <td>75</td>\n",
       "      <td>-5</td>\n",
       "      <td>11</td>\n",
       "      <td>62</td>\n",
       "      <td>226</td>\n",
       "      <td>14</td>\n",
       "      <td>34</td>\n",
       "      <td>91</td>\n",
       "    </tr>\n",
       "    <tr>\n",
       "      <th>Otro Trago - Remix</th>\n",
       "      <th>Sech</th>\n",
       "      <th>panamanian pop</th>\n",
       "      <td>176</td>\n",
       "      <td>79</td>\n",
       "      <td>73</td>\n",
       "      <td>-2</td>\n",
       "      <td>6</td>\n",
       "      <td>76</td>\n",
       "      <td>288</td>\n",
       "      <td>7</td>\n",
       "      <td>20</td>\n",
       "      <td>87</td>\n",
       "    </tr>\n",
       "    <tr>\n",
       "      <th>Panini</th>\n",
       "      <th>Lil Nas X</th>\n",
       "      <th>country rap</th>\n",
       "      <td>154</td>\n",
       "      <td>59</td>\n",
       "      <td>70</td>\n",
       "      <td>-6</td>\n",
       "      <td>12</td>\n",
       "      <td>48</td>\n",
       "      <td>115</td>\n",
       "      <td>34</td>\n",
       "      <td>8</td>\n",
       "      <td>91</td>\n",
       "    </tr>\n",
       "    <tr>\n",
       "      <th>Piece Of Your Heart</th>\n",
       "      <th>MEDUZA</th>\n",
       "      <th>pop house</th>\n",
       "      <td>124</td>\n",
       "      <td>74</td>\n",
       "      <td>68</td>\n",
       "      <td>-7</td>\n",
       "      <td>7</td>\n",
       "      <td>63</td>\n",
       "      <td>153</td>\n",
       "      <td>4</td>\n",
       "      <td>3</td>\n",
       "      <td>91</td>\n",
       "    </tr>\n",
       "    <tr>\n",
       "      <th>QUE PRETENDES</th>\n",
       "      <th>J Balvin</th>\n",
       "      <th>latin</th>\n",
       "      <td>93</td>\n",
       "      <td>79</td>\n",
       "      <td>64</td>\n",
       "      <td>-4</td>\n",
       "      <td>36</td>\n",
       "      <td>94</td>\n",
       "      <td>222</td>\n",
       "      <td>3</td>\n",
       "      <td>25</td>\n",
       "      <td>89</td>\n",
       "    </tr>\n",
       "    <tr>\n",
       "      <th>Ransom</th>\n",
       "      <th>Lil Tecca</th>\n",
       "      <th>trap music</th>\n",
       "      <td>180</td>\n",
       "      <td>64</td>\n",
       "      <td>75</td>\n",
       "      <td>-6</td>\n",
       "      <td>7</td>\n",
       "      <td>23</td>\n",
       "      <td>131</td>\n",
       "      <td>2</td>\n",
       "      <td>29</td>\n",
       "      <td>92</td>\n",
       "    </tr>\n",
       "    <tr>\n",
       "      <th>Señorita</th>\n",
       "      <th>Shawn Mendes</th>\n",
       "      <th>canadian pop</th>\n",
       "      <td>117</td>\n",
       "      <td>55</td>\n",
       "      <td>76</td>\n",
       "      <td>-6</td>\n",
       "      <td>8</td>\n",
       "      <td>75</td>\n",
       "      <td>191</td>\n",
       "      <td>4</td>\n",
       "      <td>3</td>\n",
       "      <td>79</td>\n",
       "    </tr>\n",
       "    <tr>\n",
       "      <th>Shallow</th>\n",
       "      <th>Lady Gaga</th>\n",
       "      <th>dance pop</th>\n",
       "      <td>96</td>\n",
       "      <td>39</td>\n",
       "      <td>57</td>\n",
       "      <td>-6</td>\n",
       "      <td>23</td>\n",
       "      <td>32</td>\n",
       "      <td>216</td>\n",
       "      <td>37</td>\n",
       "      <td>3</td>\n",
       "      <td>87</td>\n",
       "    </tr>\n",
       "    <tr>\n",
       "      <th>Soltera - Remix</th>\n",
       "      <th>Lunay</th>\n",
       "      <th>latin</th>\n",
       "      <td>92</td>\n",
       "      <td>78</td>\n",
       "      <td>80</td>\n",
       "      <td>-4</td>\n",
       "      <td>44</td>\n",
       "      <td>80</td>\n",
       "      <td>266</td>\n",
       "      <td>36</td>\n",
       "      <td>4</td>\n",
       "      <td>91</td>\n",
       "    </tr>\n",
       "    <tr>\n",
       "      <th>Someone You Loved</th>\n",
       "      <th>Lewis Capaldi</th>\n",
       "      <th>pop</th>\n",
       "      <td>110</td>\n",
       "      <td>41</td>\n",
       "      <td>50</td>\n",
       "      <td>-6</td>\n",
       "      <td>11</td>\n",
       "      <td>45</td>\n",
       "      <td>182</td>\n",
       "      <td>75</td>\n",
       "      <td>3</td>\n",
       "      <td>88</td>\n",
       "    </tr>\n",
       "    <tr>\n",
       "      <th>Sucker</th>\n",
       "      <th>Jonas Brothers</th>\n",
       "      <th>boy band</th>\n",
       "      <td>138</td>\n",
       "      <td>73</td>\n",
       "      <td>84</td>\n",
       "      <td>-5</td>\n",
       "      <td>11</td>\n",
       "      <td>95</td>\n",
       "      <td>181</td>\n",
       "      <td>4</td>\n",
       "      <td>6</td>\n",
       "      <td>80</td>\n",
       "    </tr>\n",
       "    <tr>\n",
       "      <th>Summer Days (feat. Macklemore &amp; Patrick Stump of Fall Out Boy)</th>\n",
       "      <th>Martin Garrix</th>\n",
       "      <th>big room</th>\n",
       "      <td>114</td>\n",
       "      <td>72</td>\n",
       "      <td>66</td>\n",
       "      <td>-7</td>\n",
       "      <td>14</td>\n",
       "      <td>32</td>\n",
       "      <td>164</td>\n",
       "      <td>18</td>\n",
       "      <td>6</td>\n",
       "      <td>89</td>\n",
       "    </tr>\n",
       "    <tr>\n",
       "      <th>Sunflower - Spider-Man: Into the Spider-Verse</th>\n",
       "      <th>Post Malone</th>\n",
       "      <th>dfw rap</th>\n",
       "      <td>90</td>\n",
       "      <td>48</td>\n",
       "      <td>76</td>\n",
       "      <td>-6</td>\n",
       "      <td>7</td>\n",
       "      <td>91</td>\n",
       "      <td>158</td>\n",
       "      <td>56</td>\n",
       "      <td>5</td>\n",
       "      <td>91</td>\n",
       "    </tr>\n",
       "    <tr>\n",
       "      <th>Takeaway</th>\n",
       "      <th>The Chainsmokers</th>\n",
       "      <th>edm</th>\n",
       "      <td>85</td>\n",
       "      <td>51</td>\n",
       "      <td>29</td>\n",
       "      <td>-8</td>\n",
       "      <td>10</td>\n",
       "      <td>36</td>\n",
       "      <td>210</td>\n",
       "      <td>12</td>\n",
       "      <td>4</td>\n",
       "      <td>84</td>\n",
       "    </tr>\n",
       "    <tr>\n",
       "      <th>Talk</th>\n",
       "      <th>Khalid</th>\n",
       "      <th>pop</th>\n",
       "      <td>136</td>\n",
       "      <td>40</td>\n",
       "      <td>90</td>\n",
       "      <td>-9</td>\n",
       "      <td>6</td>\n",
       "      <td>35</td>\n",
       "      <td>198</td>\n",
       "      <td>5</td>\n",
       "      <td>13</td>\n",
       "      <td>84</td>\n",
       "    </tr>\n",
       "    <tr>\n",
       "      <th>Te Robaré</th>\n",
       "      <th>Nicky Jam</th>\n",
       "      <th>latin</th>\n",
       "      <td>176</td>\n",
       "      <td>75</td>\n",
       "      <td>67</td>\n",
       "      <td>-4</td>\n",
       "      <td>8</td>\n",
       "      <td>80</td>\n",
       "      <td>202</td>\n",
       "      <td>24</td>\n",
       "      <td>6</td>\n",
       "      <td>88</td>\n",
       "    </tr>\n",
       "    <tr>\n",
       "      <th>The London (feat. J. Cole &amp; Travis Scott)</th>\n",
       "      <th>Young Thug</th>\n",
       "      <th>atl hip hop</th>\n",
       "      <td>98</td>\n",
       "      <td>59</td>\n",
       "      <td>80</td>\n",
       "      <td>-7</td>\n",
       "      <td>13</td>\n",
       "      <td>18</td>\n",
       "      <td>200</td>\n",
       "      <td>2</td>\n",
       "      <td>15</td>\n",
       "      <td>89</td>\n",
       "    </tr>\n",
       "    <tr>\n",
       "      <th>Truth Hurts</th>\n",
       "      <th>Lizzo</th>\n",
       "      <th>escape room</th>\n",
       "      <td>158</td>\n",
       "      <td>62</td>\n",
       "      <td>72</td>\n",
       "      <td>-3</td>\n",
       "      <td>12</td>\n",
       "      <td>41</td>\n",
       "      <td>173</td>\n",
       "      <td>11</td>\n",
       "      <td>11</td>\n",
       "      <td>91</td>\n",
       "    </tr>\n",
       "    <tr>\n",
       "      <th>You Need To Calm Down</th>\n",
       "      <th>Taylor Swift</th>\n",
       "      <th>dance pop</th>\n",
       "      <td>85</td>\n",
       "      <td>68</td>\n",
       "      <td>77</td>\n",
       "      <td>-6</td>\n",
       "      <td>7</td>\n",
       "      <td>73</td>\n",
       "      <td>171</td>\n",
       "      <td>1</td>\n",
       "      <td>5</td>\n",
       "      <td>90</td>\n",
       "    </tr>\n",
       "    <tr>\n",
       "      <th>bad guy</th>\n",
       "      <th>Billie Eilish</th>\n",
       "      <th>electropop</th>\n",
       "      <td>135</td>\n",
       "      <td>43</td>\n",
       "      <td>70</td>\n",
       "      <td>-11</td>\n",
       "      <td>10</td>\n",
       "      <td>56</td>\n",
       "      <td>194</td>\n",
       "      <td>33</td>\n",
       "      <td>38</td>\n",
       "      <td>95</td>\n",
       "    </tr>\n",
       "    <tr>\n",
       "      <th>bad guy (with Justin Bieber)</th>\n",
       "      <th>Billie Eilish</th>\n",
       "      <th>electropop</th>\n",
       "      <td>135</td>\n",
       "      <td>45</td>\n",
       "      <td>67</td>\n",
       "      <td>-11</td>\n",
       "      <td>12</td>\n",
       "      <td>68</td>\n",
       "      <td>195</td>\n",
       "      <td>25</td>\n",
       "      <td>30</td>\n",
       "      <td>89</td>\n",
       "    </tr>\n",
       "    <tr>\n",
       "      <th>boyfriend (with Social House)</th>\n",
       "      <th>Ariana Grande</th>\n",
       "      <th>dance pop</th>\n",
       "      <td>190</td>\n",
       "      <td>80</td>\n",
       "      <td>40</td>\n",
       "      <td>-4</td>\n",
       "      <td>16</td>\n",
       "      <td>70</td>\n",
       "      <td>186</td>\n",
       "      <td>12</td>\n",
       "      <td>46</td>\n",
       "      <td>85</td>\n",
       "    </tr>\n",
       "    <tr>\n",
       "      <th>fuck, i'm lonely (with Anne-Marie) - from 13 Reasons Why: Season 3</th>\n",
       "      <th>Lauv</th>\n",
       "      <th>dance pop</th>\n",
       "      <td>95</td>\n",
       "      <td>56</td>\n",
       "      <td>81</td>\n",
       "      <td>-6</td>\n",
       "      <td>6</td>\n",
       "      <td>68</td>\n",
       "      <td>199</td>\n",
       "      <td>48</td>\n",
       "      <td>7</td>\n",
       "      <td>78</td>\n",
       "    </tr>\n",
       "  </tbody>\n",
       "</table>\n",
       "</div>"
      ],
      "text/plain": [
       "                                                                                      Beats.Per.Minute  \\\n",
       "Track.Name                                         Artist.Name      Genre                                \n",
       "0.958333333333333                                  Maluma           reggaeton                       96   \n",
       "7 rings                                            Ariana Grande    dance pop                      140   \n",
       "Antisocial (with Travis Scott)                     Ed Sheeran       pop                            152   \n",
       "Beautiful People (feat. Khalid)                    Ed Sheeran       pop                             93   \n",
       "Call You Mine                                      The Chainsmokers edm                            104   \n",
       "Callaita                                           Bad Bunny        reggaeton                      176   \n",
       "China                                              Anuel AA         reggaeton flow                 105   \n",
       "Con Altura                                         ROSALÍA          r&b en espanol                  98   \n",
       "Con Calma                                          Daddy Yankee     latin                           94   \n",
       "Cross Me (feat. Chance the Rapper & PnB Rock)      Ed Sheeran       pop                             95   \n",
       "Dance Monkey                                       Tones and I      australian pop                  98   \n",
       "Goodbyes (Feat. Young Thug)                        Post Malone      dfw rap                        150   \n",
       "Happier                                            Marshmello       brostep                        100   \n",
       "Higher Love                                        Kygo             edm                            104   \n",
       "How Do You Sleep?                                  Sam Smith        pop                            111   \n",
       "I Don't Care (with Justin Bieber)                  Ed Sheeran       pop                            102   \n",
       "If I Can't Have You                                Shawn Mendes     canadian pop                   124   \n",
       "It's You                                           Ali Gatie        canadian hip hop                96   \n",
       "LA CANCIÓN                                         J Balvin         latin                          176   \n",
       "Lalala                                             Y2K              canadian hip hop               130   \n",
       "Loco Contigo (feat. J. Balvin & Tyga)              DJ Snake         dance pop                       96   \n",
       "Money In The Grave (Drake ft. Rick Ross)           Drake            canadian hip hop               101   \n",
       "Never Really Over                                  Katy Perry       dance pop                      100   \n",
       "No Guidance (feat. Drake)                          Chris Brown      dance pop                       93   \n",
       "No Me Conoce - Remix                               Jhay Cortez      reggaeton flow                  92   \n",
       "Old Town Road - Remix                              Lil Nas X        country rap                    136   \n",
       "One Thing Right                                    Marshmello       brostep                         88   \n",
       "Otro Trago                                         Sech             panamanian pop                 176   \n",
       "Otro Trago - Remix                                 Sech             panamanian pop                 176   \n",
       "Panini                                             Lil Nas X        country rap                    154   \n",
       "Piece Of Your Heart                                MEDUZA           pop house                      124   \n",
       "QUE PRETENDES                                      J Balvin         latin                           93   \n",
       "Ransom                                             Lil Tecca        trap music                     180   \n",
       "Señorita                                           Shawn Mendes     canadian pop                   117   \n",
       "Shallow                                            Lady Gaga        dance pop                       96   \n",
       "Soltera - Remix                                    Lunay            latin                           92   \n",
       "Someone You Loved                                  Lewis Capaldi    pop                            110   \n",
       "Sucker                                             Jonas Brothers   boy band                       138   \n",
       "Summer Days (feat. Macklemore & Patrick Stump o... Martin Garrix    big room                       114   \n",
       "Sunflower - Spider-Man: Into the Spider-Verse      Post Malone      dfw rap                         90   \n",
       "Takeaway                                           The Chainsmokers edm                             85   \n",
       "Talk                                               Khalid           pop                            136   \n",
       "Te Robaré                                          Nicky Jam        latin                          176   \n",
       "The London (feat. J. Cole & Travis Scott)          Young Thug       atl hip hop                     98   \n",
       "Truth Hurts                                        Lizzo            escape room                    158   \n",
       "You Need To Calm Down                              Taylor Swift     dance pop                       85   \n",
       "bad guy                                            Billie Eilish    electropop                     135   \n",
       "bad guy (with Justin Bieber)                       Billie Eilish    electropop                     135   \n",
       "boyfriend (with Social House)                      Ariana Grande    dance pop                      190   \n",
       "fuck, i'm lonely (with Anne-Marie) - from 13 R... Lauv             dance pop                       95   \n",
       "\n",
       "                                                                                      Energy  \\\n",
       "Track.Name                                         Artist.Name      Genre                      \n",
       "0.958333333333333                                  Maluma           reggaeton             71   \n",
       "7 rings                                            Ariana Grande    dance pop             32   \n",
       "Antisocial (with Travis Scott)                     Ed Sheeran       pop                   82   \n",
       "Beautiful People (feat. Khalid)                    Ed Sheeran       pop                   65   \n",
       "Call You Mine                                      The Chainsmokers edm                   70   \n",
       "Callaita                                           Bad Bunny        reggaeton             62   \n",
       "China                                              Anuel AA         reggaeton flow        81   \n",
       "Con Altura                                         ROSALÍA          r&b en espanol        69   \n",
       "Con Calma                                          Daddy Yankee     latin                 86   \n",
       "Cross Me (feat. Chance the Rapper & PnB Rock)      Ed Sheeran       pop                   79   \n",
       "Dance Monkey                                       Tones and I      australian pop        59   \n",
       "Goodbyes (Feat. Young Thug)                        Post Malone      dfw rap               65   \n",
       "Happier                                            Marshmello       brostep               79   \n",
       "Higher Love                                        Kygo             edm                   68   \n",
       "How Do You Sleep?                                  Sam Smith        pop                   68   \n",
       "I Don't Care (with Justin Bieber)                  Ed Sheeran       pop                   68   \n",
       "If I Can't Have You                                Shawn Mendes     canadian pop          82   \n",
       "It's You                                           Ali Gatie        canadian hip hop      46   \n",
       "LA CANCIÓN                                         J Balvin         latin                 65   \n",
       "Lalala                                             Y2K              canadian hip hop      39   \n",
       "Loco Contigo (feat. J. Balvin & Tyga)              DJ Snake         dance pop             71   \n",
       "Money In The Grave (Drake ft. Rick Ross)           Drake            canadian hip hop      50   \n",
       "Never Really Over                                  Katy Perry       dance pop             88   \n",
       "No Guidance (feat. Drake)                          Chris Brown      dance pop             45   \n",
       "No Me Conoce - Remix                               Jhay Cortez      reggaeton flow        79   \n",
       "Old Town Road - Remix                              Lil Nas X        country rap           62   \n",
       "One Thing Right                                    Marshmello       brostep               62   \n",
       "Otro Trago                                         Sech             panamanian pop        70   \n",
       "Otro Trago - Remix                                 Sech             panamanian pop        79   \n",
       "Panini                                             Lil Nas X        country rap           59   \n",
       "Piece Of Your Heart                                MEDUZA           pop house             74   \n",
       "QUE PRETENDES                                      J Balvin         latin                 79   \n",
       "Ransom                                             Lil Tecca        trap music            64   \n",
       "Señorita                                           Shawn Mendes     canadian pop          55   \n",
       "Shallow                                            Lady Gaga        dance pop             39   \n",
       "Soltera - Remix                                    Lunay            latin                 78   \n",
       "Someone You Loved                                  Lewis Capaldi    pop                   41   \n",
       "Sucker                                             Jonas Brothers   boy band              73   \n",
       "Summer Days (feat. Macklemore & Patrick Stump o... Martin Garrix    big room              72   \n",
       "Sunflower - Spider-Man: Into the Spider-Verse      Post Malone      dfw rap               48   \n",
       "Takeaway                                           The Chainsmokers edm                   51   \n",
       "Talk                                               Khalid           pop                   40   \n",
       "Te Robaré                                          Nicky Jam        latin                 75   \n",
       "The London (feat. J. Cole & Travis Scott)          Young Thug       atl hip hop           59   \n",
       "Truth Hurts                                        Lizzo            escape room           62   \n",
       "You Need To Calm Down                              Taylor Swift     dance pop             68   \n",
       "bad guy                                            Billie Eilish    electropop            43   \n",
       "bad guy (with Justin Bieber)                       Billie Eilish    electropop            45   \n",
       "boyfriend (with Social House)                      Ariana Grande    dance pop             80   \n",
       "fuck, i'm lonely (with Anne-Marie) - from 13 R... Lauv             dance pop             56   \n",
       "\n",
       "                                                                                      Danceability  \\\n",
       "Track.Name                                         Artist.Name      Genre                            \n",
       "0.958333333333333                                  Maluma           reggaeton                   78   \n",
       "7 rings                                            Ariana Grande    dance pop                   78   \n",
       "Antisocial (with Travis Scott)                     Ed Sheeran       pop                         72   \n",
       "Beautiful People (feat. Khalid)                    Ed Sheeran       pop                         64   \n",
       "Call You Mine                                      The Chainsmokers edm                         59   \n",
       "Callaita                                           Bad Bunny        reggaeton                   61   \n",
       "China                                              Anuel AA         reggaeton flow              79   \n",
       "Con Altura                                         ROSALÍA          r&b en espanol              88   \n",
       "Con Calma                                          Daddy Yankee     latin                       74   \n",
       "Cross Me (feat. Chance the Rapper & PnB Rock)      Ed Sheeran       pop                         75   \n",
       "Dance Monkey                                       Tones and I      australian pop              82   \n",
       "Goodbyes (Feat. Young Thug)                        Post Malone      dfw rap                     58   \n",
       "Happier                                            Marshmello       brostep                     69   \n",
       "Higher Love                                        Kygo             edm                         69   \n",
       "How Do You Sleep?                                  Sam Smith        pop                         48   \n",
       "I Don't Care (with Justin Bieber)                  Ed Sheeran       pop                         80   \n",
       "If I Can't Have You                                Shawn Mendes     canadian pop                69   \n",
       "It's You                                           Ali Gatie        canadian hip hop            73   \n",
       "LA CANCIÓN                                         J Balvin         latin                       75   \n",
       "Lalala                                             Y2K              canadian hip hop            84   \n",
       "Loco Contigo (feat. J. Balvin & Tyga)              DJ Snake         dance pop                   82   \n",
       "Money In The Grave (Drake ft. Rick Ross)           Drake            canadian hip hop            83   \n",
       "Never Really Over                                  Katy Perry       dance pop                   77   \n",
       "No Guidance (feat. Drake)                          Chris Brown      dance pop                   70   \n",
       "No Me Conoce - Remix                               Jhay Cortez      reggaeton flow              81   \n",
       "Old Town Road - Remix                              Lil Nas X        country rap                 88   \n",
       "One Thing Right                                    Marshmello       brostep                     66   \n",
       "Otro Trago                                         Sech             panamanian pop              75   \n",
       "Otro Trago - Remix                                 Sech             panamanian pop              73   \n",
       "Panini                                             Lil Nas X        country rap                 70   \n",
       "Piece Of Your Heart                                MEDUZA           pop house                   68   \n",
       "QUE PRETENDES                                      J Balvin         latin                       64   \n",
       "Ransom                                             Lil Tecca        trap music                  75   \n",
       "Señorita                                           Shawn Mendes     canadian pop                76   \n",
       "Shallow                                            Lady Gaga        dance pop                   57   \n",
       "Soltera - Remix                                    Lunay            latin                       80   \n",
       "Someone You Loved                                  Lewis Capaldi    pop                         50   \n",
       "Sucker                                             Jonas Brothers   boy band                    84   \n",
       "Summer Days (feat. Macklemore & Patrick Stump o... Martin Garrix    big room                    66   \n",
       "Sunflower - Spider-Man: Into the Spider-Verse      Post Malone      dfw rap                     76   \n",
       "Takeaway                                           The Chainsmokers edm                         29   \n",
       "Talk                                               Khalid           pop                         90   \n",
       "Te Robaré                                          Nicky Jam        latin                       67   \n",
       "The London (feat. J. Cole & Travis Scott)          Young Thug       atl hip hop                 80   \n",
       "Truth Hurts                                        Lizzo            escape room                 72   \n",
       "You Need To Calm Down                              Taylor Swift     dance pop                   77   \n",
       "bad guy                                            Billie Eilish    electropop                  70   \n",
       "bad guy (with Justin Bieber)                       Billie Eilish    electropop                  67   \n",
       "boyfriend (with Social House)                      Ariana Grande    dance pop                   40   \n",
       "fuck, i'm lonely (with Anne-Marie) - from 13 R... Lauv             dance pop                   81   \n",
       "\n",
       "                                                                                      Loudness..dB..  \\\n",
       "Track.Name                                         Artist.Name      Genre                              \n",
       "0.958333333333333                                  Maluma           reggaeton                     -5   \n",
       "7 rings                                            Ariana Grande    dance pop                    -11   \n",
       "Antisocial (with Travis Scott)                     Ed Sheeran       pop                           -5   \n",
       "Beautiful People (feat. Khalid)                    Ed Sheeran       pop                           -8   \n",
       "Call You Mine                                      The Chainsmokers edm                           -6   \n",
       "Callaita                                           Bad Bunny        reggaeton                     -5   \n",
       "China                                              Anuel AA         reggaeton flow                -4   \n",
       "Con Altura                                         ROSALÍA          r&b en espanol                -4   \n",
       "Con Calma                                          Daddy Yankee     latin                         -3   \n",
       "Cross Me (feat. Chance the Rapper & PnB Rock)      Ed Sheeran       pop                           -6   \n",
       "Dance Monkey                                       Tones and I      australian pop                -6   \n",
       "Goodbyes (Feat. Young Thug)                        Post Malone      dfw rap                       -4   \n",
       "Happier                                            Marshmello       brostep                       -3   \n",
       "Higher Love                                        Kygo             edm                           -7   \n",
       "How Do You Sleep?                                  Sam Smith        pop                           -5   \n",
       "I Don't Care (with Justin Bieber)                  Ed Sheeran       pop                           -5   \n",
       "If I Can't Have You                                Shawn Mendes     canadian pop                  -4   \n",
       "It's You                                           Ali Gatie        canadian hip hop              -7   \n",
       "LA CANCIÓN                                         J Balvin         latin                         -6   \n",
       "Lalala                                             Y2K              canadian hip hop              -8   \n",
       "Loco Contigo (feat. J. Balvin & Tyga)              DJ Snake         dance pop                     -4   \n",
       "Money In The Grave (Drake ft. Rick Ross)           Drake            canadian hip hop              -4   \n",
       "Never Really Over                                  Katy Perry       dance pop                     -5   \n",
       "No Guidance (feat. Drake)                          Chris Brown      dance pop                     -7   \n",
       "No Me Conoce - Remix                               Jhay Cortez      reggaeton flow                -4   \n",
       "Old Town Road - Remix                              Lil Nas X        country rap                   -6   \n",
       "One Thing Right                                    Marshmello       brostep                       -2   \n",
       "Otro Trago                                         Sech             panamanian pop                -5   \n",
       "Otro Trago - Remix                                 Sech             panamanian pop                -2   \n",
       "Panini                                             Lil Nas X        country rap                   -6   \n",
       "Piece Of Your Heart                                MEDUZA           pop house                     -7   \n",
       "QUE PRETENDES                                      J Balvin         latin                         -4   \n",
       "Ransom                                             Lil Tecca        trap music                    -6   \n",
       "Señorita                                           Shawn Mendes     canadian pop                  -6   \n",
       "Shallow                                            Lady Gaga        dance pop                     -6   \n",
       "Soltera - Remix                                    Lunay            latin                         -4   \n",
       "Someone You Loved                                  Lewis Capaldi    pop                           -6   \n",
       "Sucker                                             Jonas Brothers   boy band                      -5   \n",
       "Summer Days (feat. Macklemore & Patrick Stump o... Martin Garrix    big room                      -7   \n",
       "Sunflower - Spider-Man: Into the Spider-Verse      Post Malone      dfw rap                       -6   \n",
       "Takeaway                                           The Chainsmokers edm                           -8   \n",
       "Talk                                               Khalid           pop                           -9   \n",
       "Te Robaré                                          Nicky Jam        latin                         -4   \n",
       "The London (feat. J. Cole & Travis Scott)          Young Thug       atl hip hop                   -7   \n",
       "Truth Hurts                                        Lizzo            escape room                   -3   \n",
       "You Need To Calm Down                              Taylor Swift     dance pop                     -6   \n",
       "bad guy                                            Billie Eilish    electropop                   -11   \n",
       "bad guy (with Justin Bieber)                       Billie Eilish    electropop                   -11   \n",
       "boyfriend (with Social House)                      Ariana Grande    dance pop                     -4   \n",
       "fuck, i'm lonely (with Anne-Marie) - from 13 R... Lauv             dance pop                     -6   \n",
       "\n",
       "                                                                                      Liveness  \\\n",
       "Track.Name                                         Artist.Name      Genre                        \n",
       "0.958333333333333                                  Maluma           reggaeton                9   \n",
       "7 rings                                            Ariana Grande    dance pop                9   \n",
       "Antisocial (with Travis Scott)                     Ed Sheeran       pop                     36   \n",
       "Beautiful People (feat. Khalid)                    Ed Sheeran       pop                      8   \n",
       "Call You Mine                                      The Chainsmokers edm                     41   \n",
       "Callaita                                           Bad Bunny        reggaeton               24   \n",
       "China                                              Anuel AA         reggaeton flow           8   \n",
       "Con Altura                                         ROSALÍA          r&b en espanol           5   \n",
       "Con Calma                                          Daddy Yankee     latin                    6   \n",
       "Cross Me (feat. Chance the Rapper & PnB Rock)      Ed Sheeran       pop                      7   \n",
       "Dance Monkey                                       Tones and I      australian pop          18   \n",
       "Goodbyes (Feat. Young Thug)                        Post Malone      dfw rap                 11   \n",
       "Happier                                            Marshmello       brostep                 17   \n",
       "Higher Love                                        Kygo             edm                     10   \n",
       "How Do You Sleep?                                  Sam Smith        pop                      8   \n",
       "I Don't Care (with Justin Bieber)                  Ed Sheeran       pop                      9   \n",
       "If I Can't Have You                                Shawn Mendes     canadian pop            13   \n",
       "It's You                                           Ali Gatie        canadian hip hop        19   \n",
       "LA CANCIÓN                                         J Balvin         latin                   11   \n",
       "Lalala                                             Y2K              canadian hip hop        14   \n",
       "Loco Contigo (feat. J. Balvin & Tyga)              DJ Snake         dance pop               15   \n",
       "Money In The Grave (Drake ft. Rick Ross)           Drake            canadian hip hop        12   \n",
       "Never Really Over                                  Katy Perry       dance pop               32   \n",
       "No Guidance (feat. Drake)                          Chris Brown      dance pop               16   \n",
       "No Me Conoce - Remix                               Jhay Cortez      reggaeton flow           9   \n",
       "Old Town Road - Remix                              Lil Nas X        country rap             11   \n",
       "One Thing Right                                    Marshmello       brostep                 58   \n",
       "Otro Trago                                         Sech             panamanian pop          11   \n",
       "Otro Trago - Remix                                 Sech             panamanian pop           6   \n",
       "Panini                                             Lil Nas X        country rap             12   \n",
       "Piece Of Your Heart                                MEDUZA           pop house                7   \n",
       "QUE PRETENDES                                      J Balvin         latin                   36   \n",
       "Ransom                                             Lil Tecca        trap music               7   \n",
       "Señorita                                           Shawn Mendes     canadian pop             8   \n",
       "Shallow                                            Lady Gaga        dance pop               23   \n",
       "Soltera - Remix                                    Lunay            latin                   44   \n",
       "Someone You Loved                                  Lewis Capaldi    pop                     11   \n",
       "Sucker                                             Jonas Brothers   boy band                11   \n",
       "Summer Days (feat. Macklemore & Patrick Stump o... Martin Garrix    big room                14   \n",
       "Sunflower - Spider-Man: Into the Spider-Verse      Post Malone      dfw rap                  7   \n",
       "Takeaway                                           The Chainsmokers edm                     10   \n",
       "Talk                                               Khalid           pop                      6   \n",
       "Te Robaré                                          Nicky Jam        latin                    8   \n",
       "The London (feat. J. Cole & Travis Scott)          Young Thug       atl hip hop             13   \n",
       "Truth Hurts                                        Lizzo            escape room             12   \n",
       "You Need To Calm Down                              Taylor Swift     dance pop                7   \n",
       "bad guy                                            Billie Eilish    electropop              10   \n",
       "bad guy (with Justin Bieber)                       Billie Eilish    electropop              12   \n",
       "boyfriend (with Social House)                      Ariana Grande    dance pop               16   \n",
       "fuck, i'm lonely (with Anne-Marie) - from 13 R... Lauv             dance pop                6   \n",
       "\n",
       "                                                                                      Valence.  \\\n",
       "Track.Name                                         Artist.Name      Genre                        \n",
       "0.958333333333333                                  Maluma           reggaeton               68   \n",
       "7 rings                                            Ariana Grande    dance pop               33   \n",
       "Antisocial (with Travis Scott)                     Ed Sheeran       pop                     91   \n",
       "Beautiful People (feat. Khalid)                    Ed Sheeran       pop                     55   \n",
       "Call You Mine                                      The Chainsmokers edm                     50   \n",
       "Callaita                                           Bad Bunny        reggaeton               24   \n",
       "China                                              Anuel AA         reggaeton flow          61   \n",
       "Con Altura                                         ROSALÍA          r&b en espanol          75   \n",
       "Con Calma                                          Daddy Yankee     latin                   66   \n",
       "Cross Me (feat. Chance the Rapper & PnB Rock)      Ed Sheeran       pop                     61   \n",
       "Dance Monkey                                       Tones and I      australian pop          54   \n",
       "Goodbyes (Feat. Young Thug)                        Post Malone      dfw rap                 18   \n",
       "Happier                                            Marshmello       brostep                 67   \n",
       "Higher Love                                        Kygo             edm                     40   \n",
       "How Do You Sleep?                                  Sam Smith        pop                     35   \n",
       "I Don't Care (with Justin Bieber)                  Ed Sheeran       pop                     84   \n",
       "If I Can't Have You                                Shawn Mendes     canadian pop            87   \n",
       "It's You                                           Ali Gatie        canadian hip hop        40   \n",
       "LA CANCIÓN                                         J Balvin         latin                   43   \n",
       "Lalala                                             Y2K              canadian hip hop        50   \n",
       "Loco Contigo (feat. J. Balvin & Tyga)              DJ Snake         dance pop               38   \n",
       "Money In The Grave (Drake ft. Rick Ross)           Drake            canadian hip hop        10   \n",
       "Never Really Over                                  Katy Perry       dance pop               39   \n",
       "No Guidance (feat. Drake)                          Chris Brown      dance pop               14   \n",
       "No Me Conoce - Remix                               Jhay Cortez      reggaeton flow          58   \n",
       "Old Town Road - Remix                              Lil Nas X        country rap             64   \n",
       "One Thing Right                                    Marshmello       brostep                 44   \n",
       "Otro Trago                                         Sech             panamanian pop          62   \n",
       "Otro Trago - Remix                                 Sech             panamanian pop          76   \n",
       "Panini                                             Lil Nas X        country rap             48   \n",
       "Piece Of Your Heart                                MEDUZA           pop house               63   \n",
       "QUE PRETENDES                                      J Balvin         latin                   94   \n",
       "Ransom                                             Lil Tecca        trap music              23   \n",
       "Señorita                                           Shawn Mendes     canadian pop            75   \n",
       "Shallow                                            Lady Gaga        dance pop               32   \n",
       "Soltera - Remix                                    Lunay            latin                   80   \n",
       "Someone You Loved                                  Lewis Capaldi    pop                     45   \n",
       "Sucker                                             Jonas Brothers   boy band                95   \n",
       "Summer Days (feat. Macklemore & Patrick Stump o... Martin Garrix    big room                32   \n",
       "Sunflower - Spider-Man: Into the Spider-Verse      Post Malone      dfw rap                 91   \n",
       "Takeaway                                           The Chainsmokers edm                     36   \n",
       "Talk                                               Khalid           pop                     35   \n",
       "Te Robaré                                          Nicky Jam        latin                   80   \n",
       "The London (feat. J. Cole & Travis Scott)          Young Thug       atl hip hop             18   \n",
       "Truth Hurts                                        Lizzo            escape room             41   \n",
       "You Need To Calm Down                              Taylor Swift     dance pop               73   \n",
       "bad guy                                            Billie Eilish    electropop              56   \n",
       "bad guy (with Justin Bieber)                       Billie Eilish    electropop              68   \n",
       "boyfriend (with Social House)                      Ariana Grande    dance pop               70   \n",
       "fuck, i'm lonely (with Anne-Marie) - from 13 R... Lauv             dance pop               68   \n",
       "\n",
       "                                                                                      Length.  \\\n",
       "Track.Name                                         Artist.Name      Genre                       \n",
       "0.958333333333333                                  Maluma           reggaeton             176   \n",
       "7 rings                                            Ariana Grande    dance pop             179   \n",
       "Antisocial (with Travis Scott)                     Ed Sheeran       pop                   162   \n",
       "Beautiful People (feat. Khalid)                    Ed Sheeran       pop                   198   \n",
       "Call You Mine                                      The Chainsmokers edm                   218   \n",
       "Callaita                                           Bad Bunny        reggaeton             251   \n",
       "China                                              Anuel AA         reggaeton flow        302   \n",
       "Con Altura                                         ROSALÍA          r&b en espanol        162   \n",
       "Con Calma                                          Daddy Yankee     latin                 193   \n",
       "Cross Me (feat. Chance the Rapper & PnB Rock)      Ed Sheeran       pop                   206   \n",
       "Dance Monkey                                       Tones and I      australian pop        210   \n",
       "Goodbyes (Feat. Young Thug)                        Post Malone      dfw rap               175   \n",
       "Happier                                            Marshmello       brostep               214   \n",
       "Higher Love                                        Kygo             edm                   228   \n",
       "How Do You Sleep?                                  Sam Smith        pop                   202   \n",
       "I Don't Care (with Justin Bieber)                  Ed Sheeran       pop                   220   \n",
       "If I Can't Have You                                Shawn Mendes     canadian pop          191   \n",
       "It's You                                           Ali Gatie        canadian hip hop      213   \n",
       "LA CANCIÓN                                         J Balvin         latin                 243   \n",
       "Lalala                                             Y2K              canadian hip hop      161   \n",
       "Loco Contigo (feat. J. Balvin & Tyga)              DJ Snake         dance pop             185   \n",
       "Money In The Grave (Drake ft. Rick Ross)           Drake            canadian hip hop      205   \n",
       "Never Really Over                                  Katy Perry       dance pop             224   \n",
       "No Guidance (feat. Drake)                          Chris Brown      dance pop             261   \n",
       "No Me Conoce - Remix                               Jhay Cortez      reggaeton flow        309   \n",
       "Old Town Road - Remix                              Lil Nas X        country rap           157   \n",
       "One Thing Right                                    Marshmello       brostep               182   \n",
       "Otro Trago                                         Sech             panamanian pop        226   \n",
       "Otro Trago - Remix                                 Sech             panamanian pop        288   \n",
       "Panini                                             Lil Nas X        country rap           115   \n",
       "Piece Of Your Heart                                MEDUZA           pop house             153   \n",
       "QUE PRETENDES                                      J Balvin         latin                 222   \n",
       "Ransom                                             Lil Tecca        trap music            131   \n",
       "Señorita                                           Shawn Mendes     canadian pop          191   \n",
       "Shallow                                            Lady Gaga        dance pop             216   \n",
       "Soltera - Remix                                    Lunay            latin                 266   \n",
       "Someone You Loved                                  Lewis Capaldi    pop                   182   \n",
       "Sucker                                             Jonas Brothers   boy band              181   \n",
       "Summer Days (feat. Macklemore & Patrick Stump o... Martin Garrix    big room              164   \n",
       "Sunflower - Spider-Man: Into the Spider-Verse      Post Malone      dfw rap               158   \n",
       "Takeaway                                           The Chainsmokers edm                   210   \n",
       "Talk                                               Khalid           pop                   198   \n",
       "Te Robaré                                          Nicky Jam        latin                 202   \n",
       "The London (feat. J. Cole & Travis Scott)          Young Thug       atl hip hop           200   \n",
       "Truth Hurts                                        Lizzo            escape room           173   \n",
       "You Need To Calm Down                              Taylor Swift     dance pop             171   \n",
       "bad guy                                            Billie Eilish    electropop            194   \n",
       "bad guy (with Justin Bieber)                       Billie Eilish    electropop            195   \n",
       "boyfriend (with Social House)                      Ariana Grande    dance pop             186   \n",
       "fuck, i'm lonely (with Anne-Marie) - from 13 R... Lauv             dance pop             199   \n",
       "\n",
       "                                                                                      Acousticness..  \\\n",
       "Track.Name                                         Artist.Name      Genre                              \n",
       "0.958333333333333                                  Maluma           reggaeton                     22   \n",
       "7 rings                                            Ariana Grande    dance pop                     59   \n",
       "Antisocial (with Travis Scott)                     Ed Sheeran       pop                           13   \n",
       "Beautiful People (feat. Khalid)                    Ed Sheeran       pop                           12   \n",
       "Call You Mine                                      The Chainsmokers edm                           23   \n",
       "Callaita                                           Bad Bunny        reggaeton                     60   \n",
       "China                                              Anuel AA         reggaeton flow                 8   \n",
       "Con Altura                                         ROSALÍA          r&b en espanol                39   \n",
       "Con Calma                                          Daddy Yankee     latin                         11   \n",
       "Cross Me (feat. Chance the Rapper & PnB Rock)      Ed Sheeran       pop                           21   \n",
       "Dance Monkey                                       Tones and I      australian pop                69   \n",
       "Goodbyes (Feat. Young Thug)                        Post Malone      dfw rap                       45   \n",
       "Happier                                            Marshmello       brostep                       19   \n",
       "Higher Love                                        Kygo             edm                            2   \n",
       "How Do You Sleep?                                  Sam Smith        pop                           15   \n",
       "I Don't Care (with Justin Bieber)                  Ed Sheeran       pop                            9   \n",
       "If I Can't Have You                                Shawn Mendes     canadian pop                  49   \n",
       "It's You                                           Ali Gatie        canadian hip hop              37   \n",
       "LA CANCIÓN                                         J Balvin         latin                         15   \n",
       "Lalala                                             Y2K              canadian hip hop              18   \n",
       "Loco Contigo (feat. J. Balvin & Tyga)              DJ Snake         dance pop                     28   \n",
       "Money In The Grave (Drake ft. Rick Ross)           Drake            canadian hip hop              10   \n",
       "Never Really Over                                  Katy Perry       dance pop                     19   \n",
       "No Guidance (feat. Drake)                          Chris Brown      dance pop                     12   \n",
       "No Me Conoce - Remix                               Jhay Cortez      reggaeton flow                14   \n",
       "Old Town Road - Remix                              Lil Nas X        country rap                    5   \n",
       "One Thing Right                                    Marshmello       brostep                        7   \n",
       "Otro Trago                                         Sech             panamanian pop                14   \n",
       "Otro Trago - Remix                                 Sech             panamanian pop                 7   \n",
       "Panini                                             Lil Nas X        country rap                   34   \n",
       "Piece Of Your Heart                                MEDUZA           pop house                      4   \n",
       "QUE PRETENDES                                      J Balvin         latin                          3   \n",
       "Ransom                                             Lil Tecca        trap music                     2   \n",
       "Señorita                                           Shawn Mendes     canadian pop                   4   \n",
       "Shallow                                            Lady Gaga        dance pop                     37   \n",
       "Soltera - Remix                                    Lunay            latin                         36   \n",
       "Someone You Loved                                  Lewis Capaldi    pop                           75   \n",
       "Sucker                                             Jonas Brothers   boy band                       4   \n",
       "Summer Days (feat. Macklemore & Patrick Stump o... Martin Garrix    big room                      18   \n",
       "Sunflower - Spider-Man: Into the Spider-Verse      Post Malone      dfw rap                       56   \n",
       "Takeaway                                           The Chainsmokers edm                           12   \n",
       "Talk                                               Khalid           pop                            5   \n",
       "Te Robaré                                          Nicky Jam        latin                         24   \n",
       "The London (feat. J. Cole & Travis Scott)          Young Thug       atl hip hop                    2   \n",
       "Truth Hurts                                        Lizzo            escape room                   11   \n",
       "You Need To Calm Down                              Taylor Swift     dance pop                      1   \n",
       "bad guy                                            Billie Eilish    electropop                    33   \n",
       "bad guy (with Justin Bieber)                       Billie Eilish    electropop                    25   \n",
       "boyfriend (with Social House)                      Ariana Grande    dance pop                     12   \n",
       "fuck, i'm lonely (with Anne-Marie) - from 13 R... Lauv             dance pop                     48   \n",
       "\n",
       "                                                                                      Speechiness.  \\\n",
       "Track.Name                                         Artist.Name      Genre                            \n",
       "0.958333333333333                                  Maluma           reggaeton                   28   \n",
       "7 rings                                            Ariana Grande    dance pop                   33   \n",
       "Antisocial (with Travis Scott)                     Ed Sheeran       pop                          5   \n",
       "Beautiful People (feat. Khalid)                    Ed Sheeran       pop                         19   \n",
       "Call You Mine                                      The Chainsmokers edm                          3   \n",
       "Callaita                                           Bad Bunny        reggaeton                   31   \n",
       "China                                              Anuel AA         reggaeton flow               9   \n",
       "Con Altura                                         ROSALÍA          r&b en espanol              12   \n",
       "Con Calma                                          Daddy Yankee     latin                        6   \n",
       "Cross Me (feat. Chance the Rapper & PnB Rock)      Ed Sheeran       pop                         12   \n",
       "Dance Monkey                                       Tones and I      australian pop              10   \n",
       "Goodbyes (Feat. Young Thug)                        Post Malone      dfw rap                      7   \n",
       "Happier                                            Marshmello       brostep                      5   \n",
       "Higher Love                                        Kygo             edm                          3   \n",
       "How Do You Sleep?                                  Sam Smith        pop                          9   \n",
       "I Don't Care (with Justin Bieber)                  Ed Sheeran       pop                          4   \n",
       "If I Can't Have You                                Shawn Mendes     canadian pop                 6   \n",
       "It's You                                           Ali Gatie        canadian hip hop             3   \n",
       "LA CANCIÓN                                         J Balvin         latin                       32   \n",
       "Lalala                                             Y2K              canadian hip hop             8   \n",
       "Loco Contigo (feat. J. Balvin & Tyga)              DJ Snake         dance pop                    7   \n",
       "Money In The Grave (Drake ft. Rick Ross)           Drake            canadian hip hop             5   \n",
       "Never Really Over                                  Katy Perry       dance pop                    6   \n",
       "No Guidance (feat. Drake)                          Chris Brown      dance pop                   15   \n",
       "No Me Conoce - Remix                               Jhay Cortez      reggaeton flow               7   \n",
       "Old Town Road - Remix                              Lil Nas X        country rap                 10   \n",
       "One Thing Right                                    Marshmello       brostep                      5   \n",
       "Otro Trago                                         Sech             panamanian pop              34   \n",
       "Otro Trago - Remix                                 Sech             panamanian pop              20   \n",
       "Panini                                             Lil Nas X        country rap                  8   \n",
       "Piece Of Your Heart                                MEDUZA           pop house                    3   \n",
       "QUE PRETENDES                                      J Balvin         latin                       25   \n",
       "Ransom                                             Lil Tecca        trap music                  29   \n",
       "Señorita                                           Shawn Mendes     canadian pop                 3   \n",
       "Shallow                                            Lady Gaga        dance pop                    3   \n",
       "Soltera - Remix                                    Lunay            latin                        4   \n",
       "Someone You Loved                                  Lewis Capaldi    pop                          3   \n",
       "Sucker                                             Jonas Brothers   boy band                     6   \n",
       "Summer Days (feat. Macklemore & Patrick Stump o... Martin Garrix    big room                     6   \n",
       "Sunflower - Spider-Man: Into the Spider-Verse      Post Malone      dfw rap                      5   \n",
       "Takeaway                                           The Chainsmokers edm                          4   \n",
       "Talk                                               Khalid           pop                         13   \n",
       "Te Robaré                                          Nicky Jam        latin                        6   \n",
       "The London (feat. J. Cole & Travis Scott)          Young Thug       atl hip hop                 15   \n",
       "Truth Hurts                                        Lizzo            escape room                 11   \n",
       "You Need To Calm Down                              Taylor Swift     dance pop                    5   \n",
       "bad guy                                            Billie Eilish    electropop                  38   \n",
       "bad guy (with Justin Bieber)                       Billie Eilish    electropop                  30   \n",
       "boyfriend (with Social House)                      Ariana Grande    dance pop                   46   \n",
       "fuck, i'm lonely (with Anne-Marie) - from 13 R... Lauv             dance pop                    7   \n",
       "\n",
       "                                                                                      Popularity  \n",
       "Track.Name                                         Artist.Name      Genre                         \n",
       "0.958333333333333                                  Maluma           reggaeton                 89  \n",
       "7 rings                                            Ariana Grande    dance pop                 89  \n",
       "Antisocial (with Travis Scott)                     Ed Sheeran       pop                       87  \n",
       "Beautiful People (feat. Khalid)                    Ed Sheeran       pop                       86  \n",
       "Call You Mine                                      The Chainsmokers edm                       88  \n",
       "Callaita                                           Bad Bunny        reggaeton                 93  \n",
       "China                                              Anuel AA         reggaeton flow            92  \n",
       "Con Altura                                         ROSALÍA          r&b en espanol            88  \n",
       "Con Calma                                          Daddy Yankee     latin                     91  \n",
       "Cross Me (feat. Chance the Rapper & PnB Rock)      Ed Sheeran       pop                       82  \n",
       "Dance Monkey                                       Tones and I      australian pop            83  \n",
       "Goodbyes (Feat. Young Thug)                        Post Malone      dfw rap                   94  \n",
       "Happier                                            Marshmello       brostep                   88  \n",
       "Higher Love                                        Kygo             edm                       88  \n",
       "How Do You Sleep?                                  Sam Smith        pop                       90  \n",
       "I Don't Care (with Justin Bieber)                  Ed Sheeran       pop                       84  \n",
       "If I Can't Have You                                Shawn Mendes     canadian pop              70  \n",
       "It's You                                           Ali Gatie        canadian hip hop          89  \n",
       "LA CANCIÓN                                         J Balvin         latin                     90  \n",
       "Lalala                                             Y2K              canadian hip hop          88  \n",
       "Loco Contigo (feat. J. Balvin & Tyga)              DJ Snake         dance pop                 86  \n",
       "Money In The Grave (Drake ft. Rick Ross)           Drake            canadian hip hop          92  \n",
       "Never Really Over                                  Katy Perry       dance pop                 89  \n",
       "No Guidance (feat. Drake)                          Chris Brown      dance pop                 82  \n",
       "No Me Conoce - Remix                               Jhay Cortez      reggaeton flow            83  \n",
       "Old Town Road - Remix                              Lil Nas X        country rap               87  \n",
       "One Thing Right                                    Marshmello       brostep                   88  \n",
       "Otro Trago                                         Sech             panamanian pop            91  \n",
       "Otro Trago - Remix                                 Sech             panamanian pop            87  \n",
       "Panini                                             Lil Nas X        country rap               91  \n",
       "Piece Of Your Heart                                MEDUZA           pop house                 91  \n",
       "QUE PRETENDES                                      J Balvin         latin                     89  \n",
       "Ransom                                             Lil Tecca        trap music                92  \n",
       "Señorita                                           Shawn Mendes     canadian pop              79  \n",
       "Shallow                                            Lady Gaga        dance pop                 87  \n",
       "Soltera - Remix                                    Lunay            latin                     91  \n",
       "Someone You Loved                                  Lewis Capaldi    pop                       88  \n",
       "Sucker                                             Jonas Brothers   boy band                  80  \n",
       "Summer Days (feat. Macklemore & Patrick Stump o... Martin Garrix    big room                  89  \n",
       "Sunflower - Spider-Man: Into the Spider-Verse      Post Malone      dfw rap                   91  \n",
       "Takeaway                                           The Chainsmokers edm                       84  \n",
       "Talk                                               Khalid           pop                       84  \n",
       "Te Robaré                                          Nicky Jam        latin                     88  \n",
       "The London (feat. J. Cole & Travis Scott)          Young Thug       atl hip hop               89  \n",
       "Truth Hurts                                        Lizzo            escape room               91  \n",
       "You Need To Calm Down                              Taylor Swift     dance pop                 90  \n",
       "bad guy                                            Billie Eilish    electropop                95  \n",
       "bad guy (with Justin Bieber)                       Billie Eilish    electropop                89  \n",
       "boyfriend (with Social House)                      Ariana Grande    dance pop                 85  \n",
       "fuck, i'm lonely (with Anne-Marie) - from 13 R... Lauv             dance pop                 78  "
      ]
     },
     "execution_count": 8,
     "metadata": {},
     "output_type": "execute_result"
    }
   ],
   "source": [
    "#Groupby function helps in grouping the attributes and view the output by aggregating it with function\n",
    "songs.groupby(['Track.Name','Artist.Name','Genre']).mean()"
   ]
  },
  {
   "cell_type": "code",
   "execution_count": 10,
   "metadata": {},
   "outputs": [],
   "source": [
    "artist_name = ('Ed Sheeran', 'Taylor Swift', 'Chris Brownh', 'Lizzo', 'Ali Gatie', 'Drake', 'Lil Tecca', 'Jhay Cortez', \n",
    "               'Maluma', 'Lauv', 'Lady Gaga', 'Lewis Capaldi','DJ Snake','Jonas Brothers','Nicky Jam','ROSALÍA',\n",
    "              'Sam Smith','Lunay','Tones and I','Khalid','Martin Garrix','MEDUZA','Y2K','Bad Bunny','Daddy Yankee',\n",
    "              'Young Thug','Katy Perry','Anuel AA','Kygo','Shawn Mendes','Lil Nas X','J Balvin','Ariana Grande',\n",
    "              'Post Malone','The Chainsmokers','Billie Eilish','Marshmello','Sech')"
   ]
  },
  {
   "cell_type": "code",
   "execution_count": 11,
   "metadata": {},
   "outputs": [
    {
     "data": {
      "text/plain": [
       "<Figure size 1800x1440 with 0 Axes>"
      ]
     },
     "execution_count": 11,
     "metadata": {},
     "output_type": "execute_result"
    },
    {
     "data": {
      "image/png": "[encoded data removed]",
      "text/plain": [
       "<Figure size 432x288 with 1 Axes>"
      ]
     },
     "metadata": {
      "needs_background": "light"
     },
     "output_type": "display_data"
    },
    {
     "data": {
      "text/plain": [
       "<Figure size 1800x1440 with 0 Axes>"
      ]
     },
     "metadata": {},
     "output_type": "display_data"
    }
   ],
   "source": [
    "data_group = songs.groupby(['Genre'])\n",
    "\n",
    "genre = []\n",
    "popularity = []\n",
    "\n",
    "\n",
    "for name, group in data_group:\n",
    "    genre.append(name)\n",
    "    popularity.append(group['Popularity'].mean())\n",
    "\n",
    "sns.barplot(y=genre,x=popularity,orient='h',color='r')\n",
    "plt.xlabel('Popularity')\n",
    "plt.ylabel('Genre wise distribution')\n",
    "plt.yticks(range(len(genre)), genre)\n",
    "plt.figure(figsize=(25,20))"
   ]
  },
  {
   "cell_type": "code",
   "execution_count": 15,
   "metadata": {},
   "outputs": [
    {
     "data": {
      "text/plain": [
       "<Figure size 1800x1440 with 0 Axes>"
      ]
     },
     "execution_count": 15,
     "metadata": {},
     "output_type": "execute_result"
    },
    {
     "data": {
      "image/png": "[encoded data removed]",
      "text/plain": [
       "<Figure size 432x288 with 1 Axes>"
      ]
     },
     "metadata": {
      "needs_background": "light"
     },
     "output_type": "display_data"
    },
    {
     "data": {
      "text/plain": [
       "<Figure size 1800x1440 with 0 Axes>"
      ]
     },
     "metadata": {},
     "output_type": "display_data"
    }
   ],
   "source": [
    "data_group = songs.groupby(['Length.'])\n",
    "\n",
    "Length = []\n",
    "popularity = []\n",
    "\n",
    "\n",
    "for name, group in data_group:\n",
    "    Length.append(name)\n",
    "    popularity.append(group['Popularity'].mean())\n",
    "\n",
    "sns.barplot(y=Length,x=popularity,orient='v',color='y')\n",
    "plt.xlabel('Popularity')\n",
    "plt.ylabel('Length wise distribution')\n",
    "plt.figure(figsize=(25,20))"
   ]
  },
  {
   "cell_type": "code",
   "execution_count": 16,
   "metadata": {},
   "outputs": [
    {
     "data": {
      "text/plain": [
       "<seaborn.axisgrid.PairGrid at 0x2647e940048>"
      ]
     },
     "execution_count": 16,
     "metadata": {},
     "output_type": "execute_result"
    },
    {
     "data": {
      "image/png": "[encoded data removed]",
      "text/plain": [
       "<Figure size 1800x1800 with 110 Axes>"
      ]
     },
     "metadata": {
      "needs_background": "light"
     },
     "output_type": "display_data"
    }
   ],
   "source": [
    "#Using pairplot for bivariate analysis\n",
    "sns.pairplot(songs)"
   ]
  },
  {
   "cell_type": "code",
   "execution_count": 34,
   "metadata": {},
   "outputs": [
    {
     "data": {
      "text/plain": [
       "<Figure size 3600x2880 with 0 Axes>"
      ]
     },
     "execution_count": 34,
     "metadata": {},
     "output_type": "execute_result"
    },
    {
     "data": {
      "image/png": "[encoded data removed]",
      "text/plain": [
       "<Figure size 432x288 with 1 Axes>"
      ]
     },
     "metadata": {
      "needs_background": "light"
     },
     "output_type": "display_data"
    },
    {
     "data": {
      "text/plain": [
       "<Figure size 3600x2880 with 0 Axes>"
      ]
     },
     "metadata": {},
     "output_type": "display_data"
    }
   ],
   "source": [
    "#Using barplot for drawing info regarding the length of the songs wrt Artists' name\n",
    "sns.barplot(x='Length.',y='Artist.Name',data = songs)\n",
    "plt.figure(figsize=(50,40))"
   ]
  },
  {
   "cell_type": "code",
   "execution_count": 35,
   "metadata": {},
   "outputs": [
    {
     "data": {
      "text/html": [
       "<div>\n",
       "<style scoped>\n",
       "    .dataframe tbody tr th:only-of-type {\n",
       "        vertical-align: middle;\n",
       "    }\n",
       "\n",
       "    .dataframe tbody tr th {\n",
       "        vertical-align: top;\n",
       "    }\n",
       "\n",
       "    .dataframe thead th {\n",
       "        text-align: right;\n",
       "    }\n",
       "</style>\n",
       "<table border=\"1\" class=\"dataframe\">\n",
       "  <thead>\n",
       "    <tr style=\"text-align: right;\">\n",
       "      <th></th>\n",
       "      <th>Beats.Per.Minute</th>\n",
       "      <th>Energy</th>\n",
       "      <th>Danceability</th>\n",
       "      <th>Loudness..dB..</th>\n",
       "      <th>Liveness</th>\n",
       "      <th>Valence.</th>\n",
       "      <th>Length.</th>\n",
       "      <th>Acousticness..</th>\n",
       "      <th>Speechiness.</th>\n",
       "      <th>Popularity</th>\n",
       "    </tr>\n",
       "  </thead>\n",
       "  <tbody>\n",
       "    <tr>\n",
       "      <th>Beats.Per.Minute</th>\n",
       "      <td>1.000000</td>\n",
       "      <td>0.043756</td>\n",
       "      <td>-0.094183</td>\n",
       "      <td>0.017016</td>\n",
       "      <td>-0.167286</td>\n",
       "      <td>-0.011586</td>\n",
       "      <td>-0.139288</td>\n",
       "      <td>-0.031450</td>\n",
       "      <td>0.557052</td>\n",
       "      <td>0.196097</td>\n",
       "    </tr>\n",
       "    <tr>\n",
       "      <th>Energy</th>\n",
       "      <td>0.043756</td>\n",
       "      <td>1.000000</td>\n",
       "      <td>0.018254</td>\n",
       "      <td>0.670794</td>\n",
       "      <td>0.162768</td>\n",
       "      <td>0.438820</td>\n",
       "      <td>0.224677</td>\n",
       "      <td>-0.339892</td>\n",
       "      <td>-0.089860</td>\n",
       "      <td>-0.080295</td>\n",
       "    </tr>\n",
       "    <tr>\n",
       "      <th>Danceability</th>\n",
       "      <td>-0.094183</td>\n",
       "      <td>0.018254</td>\n",
       "      <td>1.000000</td>\n",
       "      <td>0.016255</td>\n",
       "      <td>-0.149636</td>\n",
       "      <td>0.172829</td>\n",
       "      <td>-0.000185</td>\n",
       "      <td>-0.098165</td>\n",
       "      <td>-0.103472</td>\n",
       "      <td>-0.071413</td>\n",
       "    </tr>\n",
       "    <tr>\n",
       "      <th>Loudness..dB..</th>\n",
       "      <td>0.017016</td>\n",
       "      <td>0.670794</td>\n",
       "      <td>0.016255</td>\n",
       "      <td>1.000000</td>\n",
       "      <td>0.258652</td>\n",
       "      <td>0.237614</td>\n",
       "      <td>0.219219</td>\n",
       "      <td>-0.138300</td>\n",
       "      <td>-0.272213</td>\n",
       "      <td>-0.043085</td>\n",
       "    </tr>\n",
       "    <tr>\n",
       "      <th>Liveness</th>\n",
       "      <td>-0.167286</td>\n",
       "      <td>0.162768</td>\n",
       "      <td>-0.149636</td>\n",
       "      <td>0.258652</td>\n",
       "      <td>1.000000</td>\n",
       "      <td>0.016123</td>\n",
       "      <td>0.131782</td>\n",
       "      <td>0.021328</td>\n",
       "      <td>-0.125286</td>\n",
       "      <td>0.092564</td>\n",
       "    </tr>\n",
       "    <tr>\n",
       "      <th>Valence.</th>\n",
       "      <td>-0.011586</td>\n",
       "      <td>0.438820</td>\n",
       "      <td>0.172829</td>\n",
       "      <td>0.237614</td>\n",
       "      <td>0.016123</td>\n",
       "      <td>1.000000</td>\n",
       "      <td>-0.017782</td>\n",
       "      <td>-0.052323</td>\n",
       "      <td>-0.053242</td>\n",
       "      <td>-0.317752</td>\n",
       "    </tr>\n",
       "    <tr>\n",
       "      <th>Length.</th>\n",
       "      <td>-0.139288</td>\n",
       "      <td>0.224677</td>\n",
       "      <td>-0.000185</td>\n",
       "      <td>0.219219</td>\n",
       "      <td>0.131782</td>\n",
       "      <td>-0.017782</td>\n",
       "      <td>1.000000</td>\n",
       "      <td>-0.076293</td>\n",
       "      <td>0.046755</td>\n",
       "      <td>-0.087639</td>\n",
       "    </tr>\n",
       "    <tr>\n",
       "      <th>Acousticness..</th>\n",
       "      <td>-0.031450</td>\n",
       "      <td>-0.339892</td>\n",
       "      <td>-0.098165</td>\n",
       "      <td>-0.138300</td>\n",
       "      <td>0.021328</td>\n",
       "      <td>-0.052323</td>\n",
       "      <td>-0.076293</td>\n",
       "      <td>1.000000</td>\n",
       "      <td>0.008293</td>\n",
       "      <td>-0.034684</td>\n",
       "    </tr>\n",
       "    <tr>\n",
       "      <th>Speechiness.</th>\n",
       "      <td>0.557052</td>\n",
       "      <td>-0.089860</td>\n",
       "      <td>-0.103472</td>\n",
       "      <td>-0.272213</td>\n",
       "      <td>-0.125286</td>\n",
       "      <td>-0.053242</td>\n",
       "      <td>0.046755</td>\n",
       "      <td>0.008293</td>\n",
       "      <td>1.000000</td>\n",
       "      <td>0.238553</td>\n",
       "    </tr>\n",
       "    <tr>\n",
       "      <th>Popularity</th>\n",
       "      <td>0.196097</td>\n",
       "      <td>-0.080295</td>\n",
       "      <td>-0.071413</td>\n",
       "      <td>-0.043085</td>\n",
       "      <td>0.092564</td>\n",
       "      <td>-0.317752</td>\n",
       "      <td>-0.087639</td>\n",
       "      <td>-0.034684</td>\n",
       "      <td>0.238553</td>\n",
       "      <td>1.000000</td>\n",
       "    </tr>\n",
       "  </tbody>\n",
       "</table>\n",
       "</div>"
      ],
      "text/plain": [
       "                  Beats.Per.Minute    Energy  Danceability  Loudness..dB..  \\\n",
       "Beats.Per.Minute          1.000000  0.043756     -0.094183        0.017016   \n",
       "Energy                    0.043756  1.000000      0.018254        0.670794   \n",
       "Danceability             -0.094183  0.018254      1.000000        0.016255   \n",
       "Loudness..dB..            0.017016  0.670794      0.016255        1.000000   \n",
       "Liveness                 -0.167286  0.162768     -0.149636        0.258652   \n",
       "Valence.                 -0.011586  0.438820      0.172829        0.237614   \n",
       "Length.                  -0.139288  0.224677     -0.000185        0.219219   \n",
       "Acousticness..           -0.031450 -0.339892     -0.098165       -0.138300   \n",
       "Speechiness.              0.557052 -0.089860     -0.103472       -0.272213   \n",
       "Popularity                0.196097 -0.080295     -0.071413       -0.043085   \n",
       "\n",
       "                  Liveness  Valence.   Length.  Acousticness..  Speechiness.  \\\n",
       "Beats.Per.Minute -0.167286 -0.011586 -0.139288       -0.031450      0.557052   \n",
       "Energy            0.162768  0.438820  0.224677       -0.339892     -0.089860   \n",
       "Danceability     -0.149636  0.172829 -0.000185       -0.098165     -0.103472   \n",
       "Loudness..dB..    0.258652  0.237614  0.219219       -0.138300     -0.272213   \n",
       "Liveness          1.000000  0.016123  0.131782        0.021328     -0.125286   \n",
       "Valence.          0.016123  1.000000 -0.017782       -0.052323     -0.053242   \n",
       "Length.           0.131782 -0.017782  1.000000       -0.076293      0.046755   \n",
       "Acousticness..    0.021328 -0.052323 -0.076293        1.000000      0.008293   \n",
       "Speechiness.     -0.125286 -0.053242  0.046755        0.008293      1.000000   \n",
       "Popularity        0.092564 -0.317752 -0.087639       -0.034684      0.238553   \n",
       "\n",
       "                  Popularity  \n",
       "Beats.Per.Minute    0.196097  \n",
       "Energy             -0.080295  \n",
       "Danceability       -0.071413  \n",
       "Loudness..dB..     -0.043085  \n",
       "Liveness            0.092564  \n",
       "Valence.           -0.317752  \n",
       "Length.            -0.087639  \n",
       "Acousticness..     -0.034684  \n",
       "Speechiness.        0.238553  \n",
       "Popularity          1.000000  "
      ]
     },
     "execution_count": 35,
     "metadata": {},
     "output_type": "execute_result"
    }
   ],
   "source": [
    "#Checking the correlation amongst the variables \n",
    "songs.corr()"
   ]
  },
  {
   "cell_type": "code",
   "execution_count": 38,
   "metadata": {},
   "outputs": [
    {
     "data": {
      "image/png": "[encoded data removed]",
      "text/plain": [
       "<Figure size 432x288 with 2 Axes>"
      ]
     },
     "metadata": {
      "needs_background": "light"
     },
     "output_type": "display_data"
    }
   ],
   "source": [
    "#Let's plot heatmap to vizualise thr correlation \n",
    "sns.heatmap(songs.corr())\n",
    "sns.set(style='whitegrid')"
   ]
  },
  {
   "cell_type": "code",
   "execution_count": 44,
   "metadata": {},
   "outputs": [
    {
     "data": {
      "text/plain": [
       "<Figure size 2160x2160 with 0 Axes>"
      ]
     },
     "execution_count": 44,
     "metadata": {},
     "output_type": "execute_result"
    },
    {
     "data": {
      "image/png": "[encoded data removed]",
      "text/plain": [
       "<Figure size 432x288 with 1 Axes>"
      ]
     },
     "metadata": {},
     "output_type": "display_data"
    },
    {
     "data": {
      "text/plain": [
       "<Figure size 2160x2160 with 0 Axes>"
      ]
     },
     "metadata": {},
     "output_type": "display_data"
    }
   ],
   "source": [
    "sns.barplot(x='Track.Name',y='Length.',data=songs)\n",
    "plt.figure(figsize=(30,30))"
   ]
  },
  {
   "cell_type": "code",
   "execution_count": 48,
   "metadata": {},
   "outputs": [
    {
     "data": {
      "text/html": [
       "<div>\n",
       "<style scoped>\n",
       "    .dataframe tbody tr th:only-of-type {\n",
       "        vertical-align: middle;\n",
       "    }\n",
       "\n",
       "    .dataframe tbody tr th {\n",
       "        vertical-align: top;\n",
       "    }\n",
       "\n",
       "    .dataframe thead th {\n",
       "        text-align: right;\n",
       "    }\n",
       "</style>\n",
       "<table border=\"1\" class=\"dataframe\">\n",
       "  <thead>\n",
       "    <tr style=\"text-align: right;\">\n",
       "      <th></th>\n",
       "      <th></th>\n",
       "      <th></th>\n",
       "      <th></th>\n",
       "      <th>Popularity</th>\n",
       "    </tr>\n",
       "    <tr>\n",
       "      <th>Track.Name</th>\n",
       "      <th>Length.</th>\n",
       "      <th>Genre</th>\n",
       "      <th>Artist.Name</th>\n",
       "      <th></th>\n",
       "    </tr>\n",
       "  </thead>\n",
       "  <tbody>\n",
       "    <tr>\n",
       "      <th>bad guy</th>\n",
       "      <th>194</th>\n",
       "      <th>electropop</th>\n",
       "      <th>Billie Eilish</th>\n",
       "      <td>95</td>\n",
       "    </tr>\n",
       "    <tr>\n",
       "      <th>Goodbyes (Feat. Young Thug)</th>\n",
       "      <th>175</th>\n",
       "      <th>dfw rap</th>\n",
       "      <th>Post Malone</th>\n",
       "      <td>94</td>\n",
       "    </tr>\n",
       "    <tr>\n",
       "      <th>Callaita</th>\n",
       "      <th>251</th>\n",
       "      <th>reggaeton</th>\n",
       "      <th>Bad Bunny</th>\n",
       "      <td>93</td>\n",
       "    </tr>\n",
       "    <tr>\n",
       "      <th>Ransom</th>\n",
       "      <th>131</th>\n",
       "      <th>trap music</th>\n",
       "      <th>Lil Tecca</th>\n",
       "      <td>92</td>\n",
       "    </tr>\n",
       "    <tr>\n",
       "      <th>China</th>\n",
       "      <th>302</th>\n",
       "      <th>reggaeton flow</th>\n",
       "      <th>Anuel AA</th>\n",
       "      <td>92</td>\n",
       "    </tr>\n",
       "    <tr>\n",
       "      <th>Money In The Grave (Drake ft. Rick Ross)</th>\n",
       "      <th>205</th>\n",
       "      <th>canadian hip hop</th>\n",
       "      <th>Drake</th>\n",
       "      <td>92</td>\n",
       "    </tr>\n",
       "    <tr>\n",
       "      <th>Piece Of Your Heart</th>\n",
       "      <th>153</th>\n",
       "      <th>pop house</th>\n",
       "      <th>MEDUZA</th>\n",
       "      <td>91</td>\n",
       "    </tr>\n",
       "    <tr>\n",
       "      <th>Panini</th>\n",
       "      <th>115</th>\n",
       "      <th>country rap</th>\n",
       "      <th>Lil Nas X</th>\n",
       "      <td>91</td>\n",
       "    </tr>\n",
       "    <tr>\n",
       "      <th>Con Calma</th>\n",
       "      <th>193</th>\n",
       "      <th>latin</th>\n",
       "      <th>Daddy Yankee</th>\n",
       "      <td>91</td>\n",
       "    </tr>\n",
       "    <tr>\n",
       "      <th>Sunflower - Spider-Man: Into the Spider-Verse</th>\n",
       "      <th>158</th>\n",
       "      <th>dfw rap</th>\n",
       "      <th>Post Malone</th>\n",
       "      <td>91</td>\n",
       "    </tr>\n",
       "    <tr>\n",
       "      <th>Soltera - Remix</th>\n",
       "      <th>266</th>\n",
       "      <th>latin</th>\n",
       "      <th>Lunay</th>\n",
       "      <td>91</td>\n",
       "    </tr>\n",
       "    <tr>\n",
       "      <th>Otro Trago</th>\n",
       "      <th>226</th>\n",
       "      <th>panamanian pop</th>\n",
       "      <th>Sech</th>\n",
       "      <td>91</td>\n",
       "    </tr>\n",
       "    <tr>\n",
       "      <th>Truth Hurts</th>\n",
       "      <th>173</th>\n",
       "      <th>escape room</th>\n",
       "      <th>Lizzo</th>\n",
       "      <td>91</td>\n",
       "    </tr>\n",
       "    <tr>\n",
       "      <th>You Need To Calm Down</th>\n",
       "      <th>171</th>\n",
       "      <th>dance pop</th>\n",
       "      <th>Taylor Swift</th>\n",
       "      <td>90</td>\n",
       "    </tr>\n",
       "    <tr>\n",
       "      <th>How Do You Sleep?</th>\n",
       "      <th>202</th>\n",
       "      <th>pop</th>\n",
       "      <th>Sam Smith</th>\n",
       "      <td>90</td>\n",
       "    </tr>\n",
       "    <tr>\n",
       "      <th>LA CANCIÓN</th>\n",
       "      <th>243</th>\n",
       "      <th>latin</th>\n",
       "      <th>J Balvin</th>\n",
       "      <td>90</td>\n",
       "    </tr>\n",
       "    <tr>\n",
       "      <th>QUE PRETENDES</th>\n",
       "      <th>222</th>\n",
       "      <th>latin</th>\n",
       "      <th>J Balvin</th>\n",
       "      <td>89</td>\n",
       "    </tr>\n",
       "    <tr>\n",
       "      <th>7 rings</th>\n",
       "      <th>179</th>\n",
       "      <th>dance pop</th>\n",
       "      <th>Ariana Grande</th>\n",
       "      <td>89</td>\n",
       "    </tr>\n",
       "    <tr>\n",
       "      <th>Summer Days (feat. Macklemore &amp; Patrick Stump of Fall Out Boy)</th>\n",
       "      <th>164</th>\n",
       "      <th>big room</th>\n",
       "      <th>Martin Garrix</th>\n",
       "      <td>89</td>\n",
       "    </tr>\n",
       "    <tr>\n",
       "      <th>Never Really Over</th>\n",
       "      <th>224</th>\n",
       "      <th>dance pop</th>\n",
       "      <th>Katy Perry</th>\n",
       "      <td>89</td>\n",
       "    </tr>\n",
       "    <tr>\n",
       "      <th>0.958333333333333</th>\n",
       "      <th>176</th>\n",
       "      <th>reggaeton</th>\n",
       "      <th>Maluma</th>\n",
       "      <td>89</td>\n",
       "    </tr>\n",
       "    <tr>\n",
       "      <th>It's You</th>\n",
       "      <th>213</th>\n",
       "      <th>canadian hip hop</th>\n",
       "      <th>Ali Gatie</th>\n",
       "      <td>89</td>\n",
       "    </tr>\n",
       "    <tr>\n",
       "      <th>The London (feat. J. Cole &amp; Travis Scott)</th>\n",
       "      <th>200</th>\n",
       "      <th>atl hip hop</th>\n",
       "      <th>Young Thug</th>\n",
       "      <td>89</td>\n",
       "    </tr>\n",
       "    <tr>\n",
       "      <th>bad guy (with Justin Bieber)</th>\n",
       "      <th>195</th>\n",
       "      <th>electropop</th>\n",
       "      <th>Billie Eilish</th>\n",
       "      <td>89</td>\n",
       "    </tr>\n",
       "    <tr>\n",
       "      <th>Lalala</th>\n",
       "      <th>161</th>\n",
       "      <th>canadian hip hop</th>\n",
       "      <th>Y2K</th>\n",
       "      <td>88</td>\n",
       "    </tr>\n",
       "    <tr>\n",
       "      <th>Someone You Loved</th>\n",
       "      <th>182</th>\n",
       "      <th>pop</th>\n",
       "      <th>Lewis Capaldi</th>\n",
       "      <td>88</td>\n",
       "    </tr>\n",
       "    <tr>\n",
       "      <th>One Thing Right</th>\n",
       "      <th>182</th>\n",
       "      <th>brostep</th>\n",
       "      <th>Marshmello</th>\n",
       "      <td>88</td>\n",
       "    </tr>\n",
       "    <tr>\n",
       "      <th>Higher Love</th>\n",
       "      <th>228</th>\n",
       "      <th>edm</th>\n",
       "      <th>Kygo</th>\n",
       "      <td>88</td>\n",
       "    </tr>\n",
       "    <tr>\n",
       "      <th>Happier</th>\n",
       "      <th>214</th>\n",
       "      <th>brostep</th>\n",
       "      <th>Marshmello</th>\n",
       "      <td>88</td>\n",
       "    </tr>\n",
       "    <tr>\n",
       "      <th>Con Altura</th>\n",
       "      <th>162</th>\n",
       "      <th>r&amp;b en espanol</th>\n",
       "      <th>ROSALÍA</th>\n",
       "      <td>88</td>\n",
       "    </tr>\n",
       "    <tr>\n",
       "      <th>Call You Mine</th>\n",
       "      <th>218</th>\n",
       "      <th>edm</th>\n",
       "      <th>The Chainsmokers</th>\n",
       "      <td>88</td>\n",
       "    </tr>\n",
       "    <tr>\n",
       "      <th>Te Robaré</th>\n",
       "      <th>202</th>\n",
       "      <th>latin</th>\n",
       "      <th>Nicky Jam</th>\n",
       "      <td>88</td>\n",
       "    </tr>\n",
       "    <tr>\n",
       "      <th>Shallow</th>\n",
       "      <th>216</th>\n",
       "      <th>dance pop</th>\n",
       "      <th>Lady Gaga</th>\n",
       "      <td>87</td>\n",
       "    </tr>\n",
       "    <tr>\n",
       "      <th>Old Town Road - Remix</th>\n",
       "      <th>157</th>\n",
       "      <th>country rap</th>\n",
       "      <th>Lil Nas X</th>\n",
       "      <td>87</td>\n",
       "    </tr>\n",
       "    <tr>\n",
       "      <th>Otro Trago - Remix</th>\n",
       "      <th>288</th>\n",
       "      <th>panamanian pop</th>\n",
       "      <th>Sech</th>\n",
       "      <td>87</td>\n",
       "    </tr>\n",
       "    <tr>\n",
       "      <th>Antisocial (with Travis Scott)</th>\n",
       "      <th>162</th>\n",
       "      <th>pop</th>\n",
       "      <th>Ed Sheeran</th>\n",
       "      <td>87</td>\n",
       "    </tr>\n",
       "    <tr>\n",
       "      <th>Loco Contigo (feat. J. Balvin &amp; Tyga)</th>\n",
       "      <th>185</th>\n",
       "      <th>dance pop</th>\n",
       "      <th>DJ Snake</th>\n",
       "      <td>86</td>\n",
       "    </tr>\n",
       "    <tr>\n",
       "      <th>Beautiful People (feat. Khalid)</th>\n",
       "      <th>198</th>\n",
       "      <th>pop</th>\n",
       "      <th>Ed Sheeran</th>\n",
       "      <td>86</td>\n",
       "    </tr>\n",
       "    <tr>\n",
       "      <th>boyfriend (with Social House)</th>\n",
       "      <th>186</th>\n",
       "      <th>dance pop</th>\n",
       "      <th>Ariana Grande</th>\n",
       "      <td>85</td>\n",
       "    </tr>\n",
       "    <tr>\n",
       "      <th>Takeaway</th>\n",
       "      <th>210</th>\n",
       "      <th>edm</th>\n",
       "      <th>The Chainsmokers</th>\n",
       "      <td>84</td>\n",
       "    </tr>\n",
       "    <tr>\n",
       "      <th>Talk</th>\n",
       "      <th>198</th>\n",
       "      <th>pop</th>\n",
       "      <th>Khalid</th>\n",
       "      <td>84</td>\n",
       "    </tr>\n",
       "    <tr>\n",
       "      <th>I Don't Care (with Justin Bieber)</th>\n",
       "      <th>220</th>\n",
       "      <th>pop</th>\n",
       "      <th>Ed Sheeran</th>\n",
       "      <td>84</td>\n",
       "    </tr>\n",
       "    <tr>\n",
       "      <th>No Me Conoce - Remix</th>\n",
       "      <th>309</th>\n",
       "      <th>reggaeton flow</th>\n",
       "      <th>Jhay Cortez</th>\n",
       "      <td>83</td>\n",
       "    </tr>\n",
       "    <tr>\n",
       "      <th>Dance Monkey</th>\n",
       "      <th>210</th>\n",
       "      <th>australian pop</th>\n",
       "      <th>Tones and I</th>\n",
       "      <td>83</td>\n",
       "    </tr>\n",
       "    <tr>\n",
       "      <th>No Guidance (feat. Drake)</th>\n",
       "      <th>261</th>\n",
       "      <th>dance pop</th>\n",
       "      <th>Chris Brown</th>\n",
       "      <td>82</td>\n",
       "    </tr>\n",
       "    <tr>\n",
       "      <th>Cross Me (feat. Chance the Rapper &amp; PnB Rock)</th>\n",
       "      <th>206</th>\n",
       "      <th>pop</th>\n",
       "      <th>Ed Sheeran</th>\n",
       "      <td>82</td>\n",
       "    </tr>\n",
       "    <tr>\n",
       "      <th>Sucker</th>\n",
       "      <th>181</th>\n",
       "      <th>boy band</th>\n",
       "      <th>Jonas Brothers</th>\n",
       "      <td>80</td>\n",
       "    </tr>\n",
       "    <tr>\n",
       "      <th>Señorita</th>\n",
       "      <th>191</th>\n",
       "      <th>canadian pop</th>\n",
       "      <th>Shawn Mendes</th>\n",
       "      <td>79</td>\n",
       "    </tr>\n",
       "    <tr>\n",
       "      <th>fuck, i'm lonely (with Anne-Marie) - from 13 Reasons Why: Season 3</th>\n",
       "      <th>199</th>\n",
       "      <th>dance pop</th>\n",
       "      <th>Lauv</th>\n",
       "      <td>78</td>\n",
       "    </tr>\n",
       "    <tr>\n",
       "      <th>If I Can't Have You</th>\n",
       "      <th>191</th>\n",
       "      <th>canadian pop</th>\n",
       "      <th>Shawn Mendes</th>\n",
       "      <td>70</td>\n",
       "    </tr>\n",
       "  </tbody>\n",
       "</table>\n",
       "</div>"
      ],
      "text/plain": [
       "                                                                                              Popularity\n",
       "Track.Name                                         Length. Genre            Artist.Name                 \n",
       "bad guy                                            194     electropop       Billie Eilish             95\n",
       "Goodbyes (Feat. Young Thug)                        175     dfw rap          Post Malone               94\n",
       "Callaita                                           251     reggaeton        Bad Bunny                 93\n",
       "Ransom                                             131     trap music       Lil Tecca                 92\n",
       "China                                              302     reggaeton flow   Anuel AA                  92\n",
       "Money In The Grave (Drake ft. Rick Ross)           205     canadian hip hop Drake                     92\n",
       "Piece Of Your Heart                                153     pop house        MEDUZA                    91\n",
       "Panini                                             115     country rap      Lil Nas X                 91\n",
       "Con Calma                                          193     latin            Daddy Yankee              91\n",
       "Sunflower - Spider-Man: Into the Spider-Verse      158     dfw rap          Post Malone               91\n",
       "Soltera - Remix                                    266     latin            Lunay                     91\n",
       "Otro Trago                                         226     panamanian pop   Sech                      91\n",
       "Truth Hurts                                        173     escape room      Lizzo                     91\n",
       "You Need To Calm Down                              171     dance pop        Taylor Swift              90\n",
       "How Do You Sleep?                                  202     pop              Sam Smith                 90\n",
       "LA CANCIÓN                                         243     latin            J Balvin                  90\n",
       "QUE PRETENDES                                      222     latin            J Balvin                  89\n",
       "7 rings                                            179     dance pop        Ariana Grande             89\n",
       "Summer Days (feat. Macklemore & Patrick Stump o... 164     big room         Martin Garrix             89\n",
       "Never Really Over                                  224     dance pop        Katy Perry                89\n",
       "0.958333333333333                                  176     reggaeton        Maluma                    89\n",
       "It's You                                           213     canadian hip hop Ali Gatie                 89\n",
       "The London (feat. J. Cole & Travis Scott)          200     atl hip hop      Young Thug                89\n",
       "bad guy (with Justin Bieber)                       195     electropop       Billie Eilish             89\n",
       "Lalala                                             161     canadian hip hop Y2K                       88\n",
       "Someone You Loved                                  182     pop              Lewis Capaldi             88\n",
       "One Thing Right                                    182     brostep          Marshmello                88\n",
       "Higher Love                                        228     edm              Kygo                      88\n",
       "Happier                                            214     brostep          Marshmello                88\n",
       "Con Altura                                         162     r&b en espanol   ROSALÍA                   88\n",
       "Call You Mine                                      218     edm              The Chainsmokers          88\n",
       "Te Robaré                                          202     latin            Nicky Jam                 88\n",
       "Shallow                                            216     dance pop        Lady Gaga                 87\n",
       "Old Town Road - Remix                              157     country rap      Lil Nas X                 87\n",
       "Otro Trago - Remix                                 288     panamanian pop   Sech                      87\n",
       "Antisocial (with Travis Scott)                     162     pop              Ed Sheeran                87\n",
       "Loco Contigo (feat. J. Balvin & Tyga)              185     dance pop        DJ Snake                  86\n",
       "Beautiful People (feat. Khalid)                    198     pop              Ed Sheeran                86\n",
       "boyfriend (with Social House)                      186     dance pop        Ariana Grande             85\n",
       "Takeaway                                           210     edm              The Chainsmokers          84\n",
       "Talk                                               198     pop              Khalid                    84\n",
       "I Don't Care (with Justin Bieber)                  220     pop              Ed Sheeran                84\n",
       "No Me Conoce - Remix                               309     reggaeton flow   Jhay Cortez               83\n",
       "Dance Monkey                                       210     australian pop   Tones and I               83\n",
       "No Guidance (feat. Drake)                          261     dance pop        Chris Brown               82\n",
       "Cross Me (feat. Chance the Rapper & PnB Rock)      206     pop              Ed Sheeran                82\n",
       "Sucker                                             181     boy band         Jonas Brothers            80\n",
       "Señorita                                           191     canadian pop     Shawn Mendes              79\n",
       "fuck, i'm lonely (with Anne-Marie) - from 13 R... 199     dance pop        Lauv                      78\n",
       "If I Can't Have You                                191     canadian pop     Shawn Mendes              70"
      ]
     },
     "execution_count": 48,
     "metadata": {},
     "output_type": "execute_result"
    }
   ],
   "source": [
    "df1 = songs.groupby(['Track.Name','Length.','Genre','Artist.Name'])['Popularity'].apply(lambda x:x.min()).to_frame()\n",
    "\n",
    "df1.sort_values('Popularity',ascending = False).groupby(level = 0).head()"
   ]
  },
  {
   "cell_type": "code",
   "execution_count": 53,
   "metadata": {},
   "outputs": [
    {
     "data": {
      "application/vnd.plotly.v1+json": {
       "config": {
        "plotlyServerURL": "https://plot.ly"
       },
       "data": [
        {
         "alignmentgroup": "True",
         "hoverlabel": {
          "namelength": 0
         },
         "hovertemplate": "Artist.Name=%{x}<br>Popularity=%{y}",
         "legendgroup": "",
         "marker": {
          "color": "#636efa"
         },
         "name": "",
         "notched": false,
         "offsetgroup": "",
         "orientation": "v",
         "showlegend": false,
         "type": "box",
         "x": [
          "Shawn Mendes",
          "Anuel AA",
          "Ariana Grande",
          "Ed Sheeran",
          "Post Malone",
          "Ed Sheeran",
          "Lil Tecca",
          "Sam Smith",
          "Lil Nas X",
          "Billie Eilish",
          "Bad Bunny",
          "DJ Snake",
          "Lewis Capaldi",
          "Sech",
          "Drake",
          "Chris Brown",
          "J Balvin",
          "Post Malone",
          "Y2K",
          "Lizzo",
          "MEDUZA",
          "Lil Nas X",
          "Jhay Cortez",
          "Lunay",
          "Billie Eilish",
          "Shawn Mendes",
          "Tones and I",
          "Ali Gatie",
          "Daddy Yankee",
          "J Balvin",
          "The Chainsmokers",
          "Ariana Grande",
          "Maluma",
          "Young Thug",
          "Katy Perry",
          "Martin Garrix",
          "Sech",
          "Ed Sheeran",
          "Jonas Brothers",
          "Lauv",
          "Kygo",
          "Taylor Swift",
          "Lady Gaga",
          "Khalid",
          "ROSALÍA",
          "Marshmello",
          "Nicky Jam",
          "Marshmello",
          "The Chainsmokers",
          "Ed Sheeran"
         ],
         "x0": " ",
         "xaxis": "x",
         "y": [
          79,
          92,
          85,
          86,
          94,
          84,
          92,
          90,
          87,
          95,
          93,
          86,
          88,
          87,
          92,
          82,
          90,
          91,
          88,
          91,
          91,
          91,
          83,
          91,
          89,
          70,
          83,
          89,
          91,
          89,
          84,
          89,
          89,
          89,
          89,
          89,
          91,
          87,
          80,
          78,
          88,
          90,
          87,
          84,
          88,
          88,
          88,
          88,
          88,
          82
         ],
         "y0": " ",
         "yaxis": "y"
        }
       ],
       "layout": {
        "boxmode": "group",
        "height": 600,
        "legend": {
         "tracegroupgap": 0
        },
        "margin": {
         "t": 60
        },
        "template": {
         "data": {
          "bar": [
           {
            "error_x": {
             "color": "#2a3f5f"
            },
            "error_y": {
             "color": "#2a3f5f"
            },
            "marker": {
             "line": {
              "color": "#E5ECF6",
              "width": 0.5
             }
            },
            "type": "bar"
           }
          ],
          "barpolar": [
           {
            "marker": {
             "line": {
              "color": "#E5ECF6",
              "width": 0.5
             }
            },
            "type": "barpolar"
           }
          ],
          "carpet": [
           {
            "aaxis": {
             "endlinecolor": "#2a3f5f",
             "gridcolor": "white",
             "linecolor": "white",
             "minorgridcolor": "white",
             "startlinecolor": "#2a3f5f"
            },
            "baxis": {
             "endlinecolor": "#2a3f5f",
             "gridcolor": "white",
             "linecolor": "white",
             "minorgridcolor": "white",
             "startlinecolor": "#2a3f5f"
            },
            "type": "carpet"
           }
          ],
          "choropleth": [
           {
            "colorbar": {
             "outlinewidth": 0,
             "ticks": ""
            },
            "type": "choropleth"
           }
          ],
          "contour": [
           {
            "colorbar": {
             "outlinewidth": 0,
             "ticks": ""
            },
            "colorscale": [
             [
              0,
              "#0d0887"
             ],
             [
              0.1111111111111111,
              "#46039f"
             ],
             [
              0.2222222222222222,
              "#7201a8"
             ],
             [
              0.3333333333333333,
              "#9c179e"
             ],
             [
              0.4444444444444444,
              "#bd3786"
             ],
             [
              0.5555555555555556,
              "#d8576b"
             ],
             [
              0.6666666666666666,
              "#ed7953"
             ],
             [
              0.7777777777777778,
              "#fb9f3a"
             ],
             [
              0.8888888888888888,
              "#fdca26"
             ],
             [
              1,
              "#f0f921"
             ]
            ],
            "type": "contour"
           }
          ],
          "contourcarpet": [
           {
            "colorbar": {
             "outlinewidth": 0,
             "ticks": ""
            },
            "type": "contourcarpet"
           }
          ],
          "heatmap": [
           {
            "colorbar": {
             "outlinewidth": 0,
             "ticks": ""
            },
            "colorscale": [
             [
              0,
              "#0d0887"
             ],
             [
              0.1111111111111111,
              "#46039f"
             ],
             [
              0.2222222222222222,
              "#7201a8"
             ],
             [
              0.3333333333333333,
              "#9c179e"
             ],
             [
              0.4444444444444444,
              "#bd3786"
             ],
             [
              0.5555555555555556,
              "#d8576b"
             ],
             [
              0.6666666666666666,
              "#ed7953"
             ],
             [
              0.7777777777777778,
              "#fb9f3a"
             ],
             [
              0.8888888888888888,
              "#fdca26"
             ],
             [
              1,
              "#f0f921"
             ]
            ],
            "type": "heatmap"
           }
          ],
          "heatmapgl": [
           {
            "colorbar": {
             "outlinewidth": 0,
             "ticks": ""
            },
            "colorscale": [
             [
              0,
              "#0d0887"
             ],
             [
              0.1111111111111111,
              "#46039f"
             ],
             [
              0.2222222222222222,
              "#7201a8"
             ],
             [
              0.3333333333333333,
              "#9c179e"
             ],
             [
              0.4444444444444444,
              "#bd3786"
             ],
             [
              0.5555555555555556,
              "#d8576b"
             ],
             [
              0.6666666666666666,
              "#ed7953"
             ],
             [
              0.7777777777777778,
              "#fb9f3a"
             ],
             [
              0.8888888888888888,
              "#fdca26"
             ],
             [
              1,
              "#f0f921"
             ]
            ],
            "type": "heatmapgl"
           }
          ],
          "histogram": [
           {
            "marker": {
             "colorbar": {
              "outlinewidth": 0,
              "ticks": ""
             }
            },
            "type": "histogram"
           }
          ],
          "histogram2d": [
           {
            "colorbar": {
             "outlinewidth": 0,
             "ticks": ""
            },
            "colorscale": [
             [
              0,
              "#0d0887"
             ],
             [
              0.1111111111111111,
              "#46039f"
             ],
             [
              0.2222222222222222,
              "#7201a8"
             ],
             [
              0.3333333333333333,
              "#9c179e"
             ],
             [
              0.4444444444444444,
              "#bd3786"
             ],
             [
              0.5555555555555556,
              "#d8576b"
             ],
             [
              0.6666666666666666,
              "#ed7953"
             ],
             [
              0.7777777777777778,
              "#fb9f3a"
             ],
             [
              0.8888888888888888,
              "#fdca26"
             ],
             [
              1,
              "#f0f921"
             ]
            ],
            "type": "histogram2d"
           }
          ],
          "histogram2dcontour": [
           {
            "colorbar": {
             "outlinewidth": 0,
             "ticks": ""
            },
            "colorscale": [
             [
              0,
              "#0d0887"
             ],
             [
              0.1111111111111111,
              "#46039f"
             ],
             [
              0.2222222222222222,
              "#7201a8"
             ],
             [
              0.3333333333333333,
              "#9c179e"
             ],
             [
              0.4444444444444444,
              "#bd3786"
             ],
             [
              0.5555555555555556,
              "#d8576b"
             ],
             [
              0.6666666666666666,
              "#ed7953"
             ],
             [
              0.7777777777777778,
              "#fb9f3a"
             ],
             [
              0.8888888888888888,
              "#fdca26"
             ],
             [
              1,
              "#f0f921"
             ]
            ],
            "type": "histogram2dcontour"
           }
          ],
          "mesh3d": [
           {
            "colorbar": {
             "outlinewidth": 0,
             "ticks": ""
            },
            "type": "mesh3d"
           }
          ],
          "parcoords": [
           {
            "line": {
             "colorbar": {
              "outlinewidth": 0,
              "ticks": ""
             }
            },
            "type": "parcoords"
           }
          ],
          "scatter": [
           {
            "marker": {
             "colorbar": {
              "outlinewidth": 0,
              "ticks": ""
             }
            },
            "type": "scatter"
           }
          ],
          "scatter3d": [
           {
            "line": {
             "colorbar": {
              "outlinewidth": 0,
              "ticks": ""
             }
            },
            "marker": {
             "colorbar": {
              "outlinewidth": 0,
              "ticks": ""
             }
            },
            "type": "scatter3d"
           }
          ],
          "scattercarpet": [
           {
            "marker": {
             "colorbar": {
              "outlinewidth": 0,
              "ticks": ""
             }
            },
            "type": "scattercarpet"
           }
          ],
          "scattergeo": [
           {
            "marker": {
             "colorbar": {
              "outlinewidth": 0,
              "ticks": ""
             }
            },
            "type": "scattergeo"
           }
          ],
          "scattergl": [
           {
            "marker": {
             "colorbar": {
              "outlinewidth": 0,
              "ticks": ""
             }
            },
            "type": "scattergl"
           }
          ],
          "scattermapbox": [
           {
            "marker": {
             "colorbar": {
              "outlinewidth": 0,
              "ticks": ""
             }
            },
            "type": "scattermapbox"
           }
          ],
          "scatterpolar": [
           {
            "marker": {
             "colorbar": {
              "outlinewidth": 0,
              "ticks": ""
             }
            },
            "type": "scatterpolar"
           }
          ],
          "scatterpolargl": [
           {
            "marker": {
             "colorbar": {
              "outlinewidth": 0,
              "ticks": ""
             }
            },
            "type": "scatterpolargl"
           }
          ],
          "scatterternary": [
           {
            "marker": {
             "colorbar": {
              "outlinewidth": 0,
              "ticks": ""
             }
            },
            "type": "scatterternary"
           }
          ],
          "surface": [
           {
            "colorbar": {
             "outlinewidth": 0,
             "ticks": ""
            },
            "colorscale": [
             [
              0,
              "#0d0887"
             ],
             [
              0.1111111111111111,
              "#46039f"
             ],
             [
              0.2222222222222222,
              "#7201a8"
             ],
             [
              0.3333333333333333,
              "#9c179e"
             ],
             [
              0.4444444444444444,
              "#bd3786"
             ],
             [
              0.5555555555555556,
              "#d8576b"
             ],
             [
              0.6666666666666666,
              "#ed7953"
             ],
             [
              0.7777777777777778,
              "#fb9f3a"
             ],
             [
              0.8888888888888888,
              "#fdca26"
             ],
             [
              1,
              "#f0f921"
             ]
            ],
            "type": "surface"
           }
          ],
          "table": [
           {
            "cells": {
             "fill": {
              "color": "#EBF0F8"
             },
             "line": {
              "color": "white"
             }
            },
            "header": {
             "fill": {
              "color": "#C8D4E3"
             },
             "line": {
              "color": "white"
             }
            },
            "type": "table"
           }
          ]
         },
         "layout": {
          "annotationdefaults": {
           "arrowcolor": "#2a3f5f",
           "arrowhead": 0,
           "arrowwidth": 1
          },
          "colorscale": {
           "diverging": [
            [
             0,
             "#8e0152"
            ],
            [
             0.1,
             "#c51b7d"
            ],
            [
             0.2,
             "#de77ae"
            ],
            [
             0.3,
             "#f1b6da"
            ],
            [
             0.4,
             "#fde0ef"
            ],
            [
             0.5,
             "#f7f7f7"
            ],
            [
             0.6,
             "#e6f5d0"
            ],
            [
             0.7,
             "#b8e186"
            ],
            [
             0.8,
             "#7fbc41"
            ],
            [
             0.9,
             "#4d9221"
            ],
            [
             1,
             "#276419"
            ]
           ],
           "sequential": [
            [
             0,
             "#0d0887"
            ],
            [
             0.1111111111111111,
             "#46039f"
            ],
            [
             0.2222222222222222,
             "#7201a8"
            ],
            [
             0.3333333333333333,
             "#9c179e"
            ],
            [
             0.4444444444444444,
             "#bd3786"
            ],
            [
             0.5555555555555556,
             "#d8576b"
            ],
            [
             0.6666666666666666,
             "#ed7953"
            ],
            [
             0.7777777777777778,
             "#fb9f3a"
            ],
            [
             0.8888888888888888,
             "#fdca26"
            ],
            [
             1,
             "#f0f921"
            ]
           ],
           "sequentialminus": [
            [
             0,
             "#0d0887"
            ],
            [
             0.1111111111111111,
             "#46039f"
            ],
            [
             0.2222222222222222,
             "#7201a8"
            ],
            [
             0.3333333333333333,
             "#9c179e"
            ],
            [
             0.4444444444444444,
             "#bd3786"
            ],
            [
             0.5555555555555556,
             "#d8576b"
            ],
            [
             0.6666666666666666,
             "#ed7953"
            ],
            [
             0.7777777777777778,
             "#fb9f3a"
            ],
            [
             0.8888888888888888,
             "#fdca26"
            ],
            [
             1,
             "#f0f921"
            ]
           ]
          },
          "colorway": [
           "#636efa",
           "#EF553B",
           "#00cc96",
           "#ab63fa",
           "#FFA15A",
           "#19d3f3",
           "#FF6692",
           "#B6E880",
           "#FF97FF",
           "#FECB52"
          ],
          "font": {
           "color": "#2a3f5f"
          },
          "geo": {
           "bgcolor": "white",
           "lakecolor": "white",
           "landcolor": "#E5ECF6",
           "showlakes": true,
           "showland": true,
           "subunitcolor": "white"
          },
          "hoverlabel": {
           "align": "left"
          },
          "hovermode": "closest",
          "mapbox": {
           "style": "light"
          },
          "paper_bgcolor": "white",
          "plot_bgcolor": "#E5ECF6",
          "polar": {
           "angularaxis": {
            "gridcolor": "white",
            "linecolor": "white",
            "ticks": ""
           },
           "bgcolor": "#E5ECF6",
           "radialaxis": {
            "gridcolor": "white",
            "linecolor": "white",
            "ticks": ""
           }
          },
          "scene": {
           "xaxis": {
            "backgroundcolor": "#E5ECF6",
            "gridcolor": "white",
            "gridwidth": 2,
            "linecolor": "white",
            "showbackground": true,
            "ticks": "",
            "zerolinecolor": "white"
           },
           "yaxis": {
            "backgroundcolor": "#E5ECF6",
            "gridcolor": "white",
            "gridwidth": 2,
            "linecolor": "white",
            "showbackground": true,
            "ticks": "",
            "zerolinecolor": "white"
           },
           "zaxis": {
            "backgroundcolor": "#E5ECF6",
            "gridcolor": "white",
            "gridwidth": 2,
            "linecolor": "white",
            "showbackground": true,
            "ticks": "",
            "zerolinecolor": "white"
           }
          },
          "shapedefaults": {
           "line": {
            "color": "#2a3f5f"
           }
          },
          "ternary": {
           "aaxis": {
            "gridcolor": "white",
            "linecolor": "white",
            "ticks": ""
           },
           "baxis": {
            "gridcolor": "white",
            "linecolor": "white",
            "ticks": ""
           },
           "bgcolor": "#E5ECF6",
           "caxis": {
            "gridcolor": "white",
            "linecolor": "white",
            "ticks": ""
           }
          },
          "title": {
           "x": 0.05
          },
          "xaxis": {
           "automargin": true,
           "gridcolor": "white",
           "linecolor": "white",
           "ticks": "",
           "zerolinecolor": "white",
           "zerolinewidth": 2
          },
          "yaxis": {
           "automargin": true,
           "gridcolor": "white",
           "linecolor": "white",
           "ticks": "",
           "zerolinecolor": "white",
           "zerolinewidth": 2
          }
         }
        },
        "title": {
         "text": "Top 50 Songs of artists by their popularity"
        },
        "xaxis": {
         "anchor": "y",
         "domain": [
          0,
          0.98
         ],
         "tickangle": 45,
         "title": {
          "text": "Artist.Name"
         }
        },
        "yaxis": {
         "anchor": "x",
         "domain": [
          0,
          1
         ],
         "title": {
          "text": "Popularity"
         }
        }
       }
      },
      "text/html": [
       "<div>\n",
       "        \n",
       "        \n",
       "            <div id=\"e36f9653-e9d7-4020-bb22-2ddb35f15af6\" class=\"plotly-graph-div\" style=\"height:600px; width:100%;\"></div>\n",
       "            <script type=\"text/javascript\">\n",
       "                require([\"plotly\"], function(Plotly) {\n",
       "                    window.PLOTLYENV=window.PLOTLYENV || {};\n",
       "                    \n",
       "                if (document.getElementById(\"e36f9653-e9d7-4020-bb22-2ddb35f15af6\")) {\n",
       "                    Plotly.newPlot(\n",
       "                        'e36f9653-e9d7-4020-bb22-2ddb35f15af6',\n",
       "                        [{\"alignmentgroup\": \"True\", \"hoverlabel\": {\"namelength\": 0}, \"hovertemplate\": \"Artist.Name=%{x}<br>Popularity=%{y}\", \"legendgroup\": \"\", \"marker\": {\"color\": \"#636efa\"}, \"name\": \"\", \"notched\": false, \"offsetgroup\": \"\", \"orientation\": \"v\", \"showlegend\": false, \"type\": \"box\", \"x\": [\"Shawn Mendes\", \"Anuel AA\", \"Ariana Grande\", \"Ed Sheeran\", \"Post Malone\", \"Ed Sheeran\", \"Lil Tecca\", \"Sam Smith\", \"Lil Nas X\", \"Billie Eilish\", \"Bad Bunny\", \"DJ Snake\", \"Lewis Capaldi\", \"Sech\", \"Drake\", \"Chris Brown\", \"J Balvin\", \"Post Malone\", \"Y2K\", \"Lizzo\", \"MEDUZA\", \"Lil Nas X\", \"Jhay Cortez\", \"Lunay\", \"Billie Eilish\", \"Shawn Mendes\", \"Tones and I\", \"Ali Gatie\", \"Daddy Yankee\", \"J Balvin\", \"The Chainsmokers\", \"Ariana Grande\", \"Maluma\", \"Young Thug\", \"Katy Perry\", \"Martin Garrix\", \"Sech\", \"Ed Sheeran\", \"Jonas Brothers\", \"Lauv\", \"Kygo\", \"Taylor Swift\", \"Lady Gaga\", \"Khalid\", \"ROSAL\\u00cdA\", \"Marshmello\", \"Nicky Jam\", \"Marshmello\", \"The Chainsmokers\", \"Ed Sheeran\"], \"x0\": \" \", \"xaxis\": \"x\", \"y\": [79, 92, 85, 86, 94, 84, 92, 90, 87, 95, 93, 86, 88, 87, 92, 82, 90, 91, 88, 91, 91, 91, 83, 91, 89, 70, 83, 89, 91, 89, 84, 89, 89, 89, 89, 89, 91, 87, 80, 78, 88, 90, 87, 84, 88, 88, 88, 88, 88, 82], \"y0\": \" \", \"yaxis\": \"y\"}],\n",
       "                        {\"boxmode\": \"group\", \"height\": 600, \"legend\": {\"tracegroupgap\": 0}, \"margin\": {\"t\": 60}, \"template\": {\"data\": {\"bar\": [{\"error_x\": {\"color\": \"#2a3f5f\"}, \"error_y\": {\"color\": \"#2a3f5f\"}, \"marker\": {\"line\": {\"color\": \"#E5ECF6\", \"width\": 0.5}}, \"type\": \"bar\"}], \"barpolar\": [{\"marker\": {\"line\": {\"color\": \"#E5ECF6\", \"width\": 0.5}}, \"type\": \"barpolar\"}], \"carpet\": [{\"aaxis\": {\"endlinecolor\": \"#2a3f5f\", \"gridcolor\": \"white\", \"linecolor\": \"white\", \"minorgridcolor\": \"white\", \"startlinecolor\": \"#2a3f5f\"}, \"baxis\": {\"endlinecolor\": \"#2a3f5f\", \"gridcolor\": \"white\", \"linecolor\": \"white\", \"minorgridcolor\": \"white\", \"startlinecolor\": \"#2a3f5f\"}, \"type\": \"carpet\"}], \"choropleth\": [{\"colorbar\": {\"outlinewidth\": 0, \"ticks\": \"\"}, \"type\": \"choropleth\"}], \"contour\": [{\"colorbar\": {\"outlinewidth\": 0, \"ticks\": \"\"}, \"colorscale\": [[0.0, \"#0d0887\"], [0.1111111111111111, \"#46039f\"], [0.2222222222222222, \"#7201a8\"], [0.3333333333333333, \"#9c179e\"], [0.4444444444444444, \"#bd3786\"], [0.5555555555555556, \"#d8576b\"], [0.6666666666666666, \"#ed7953\"], [0.7777777777777778, \"#fb9f3a\"], [0.8888888888888888, \"#fdca26\"], [1.0, \"#f0f921\"]], \"type\": \"contour\"}], \"contourcarpet\": [{\"colorbar\": {\"outlinewidth\": 0, \"ticks\": \"\"}, \"type\": \"contourcarpet\"}], \"heatmap\": [{\"colorbar\": {\"outlinewidth\": 0, \"ticks\": \"\"}, \"colorscale\": [[0.0, \"#0d0887\"], [0.1111111111111111, \"#46039f\"], [0.2222222222222222, \"#7201a8\"], [0.3333333333333333, \"#9c179e\"], [0.4444444444444444, \"#bd3786\"], [0.5555555555555556, \"#d8576b\"], [0.6666666666666666, \"#ed7953\"], [0.7777777777777778, \"#fb9f3a\"], [0.8888888888888888, \"#fdca26\"], [1.0, \"#f0f921\"]], \"type\": \"heatmap\"}], \"heatmapgl\": [{\"colorbar\": {\"outlinewidth\": 0, \"ticks\": \"\"}, \"colorscale\": [[0.0, \"#0d0887\"], [0.1111111111111111, \"#46039f\"], [0.2222222222222222, \"#7201a8\"], [0.3333333333333333, \"#9c179e\"], [0.4444444444444444, \"#bd3786\"], [0.5555555555555556, \"#d8576b\"], [0.6666666666666666, \"#ed7953\"], [0.7777777777777778, \"#fb9f3a\"], [0.8888888888888888, \"#fdca26\"], [1.0, \"#f0f921\"]], \"type\": \"heatmapgl\"}], \"histogram\": [{\"marker\": {\"colorbar\": {\"outlinewidth\": 0, \"ticks\": \"\"}}, \"type\": \"histogram\"}], \"histogram2d\": [{\"colorbar\": {\"outlinewidth\": 0, \"ticks\": \"\"}, \"colorscale\": [[0.0, \"#0d0887\"], [0.1111111111111111, \"#46039f\"], [0.2222222222222222, \"#7201a8\"], [0.3333333333333333, \"#9c179e\"], [0.4444444444444444, \"#bd3786\"], [0.5555555555555556, \"#d8576b\"], [0.6666666666666666, \"#ed7953\"], [0.7777777777777778, \"#fb9f3a\"], [0.8888888888888888, \"#fdca26\"], [1.0, \"#f0f921\"]], \"type\": \"histogram2d\"}], \"histogram2dcontour\": [{\"colorbar\": {\"outlinewidth\": 0, \"ticks\": \"\"}, \"colorscale\": [[0.0, \"#0d0887\"], [0.1111111111111111, \"#46039f\"], [0.2222222222222222, \"#7201a8\"], [0.3333333333333333, \"#9c179e\"], [0.4444444444444444, \"#bd3786\"], [0.5555555555555556, \"#d8576b\"], [0.6666666666666666, \"#ed7953\"], [0.7777777777777778, \"#fb9f3a\"], [0.8888888888888888, \"#fdca26\"], [1.0, \"#f0f921\"]], \"type\": \"histogram2dcontour\"}], \"mesh3d\": [{\"colorbar\": {\"outlinewidth\": 0, \"ticks\": \"\"}, \"type\": \"mesh3d\"}], \"parcoords\": [{\"line\": {\"colorbar\": {\"outlinewidth\": 0, \"ticks\": \"\"}}, \"type\": \"parcoords\"}], \"scatter\": [{\"marker\": {\"colorbar\": {\"outlinewidth\": 0, \"ticks\": \"\"}}, \"type\": \"scatter\"}], \"scatter3d\": [{\"line\": {\"colorbar\": {\"outlinewidth\": 0, \"ticks\": \"\"}}, \"marker\": {\"colorbar\": {\"outlinewidth\": 0, \"ticks\": \"\"}}, \"type\": \"scatter3d\"}], \"scattercarpet\": [{\"marker\": {\"colorbar\": {\"outlinewidth\": 0, \"ticks\": \"\"}}, \"type\": \"scattercarpet\"}], \"scattergeo\": [{\"marker\": {\"colorbar\": {\"outlinewidth\": 0, \"ticks\": \"\"}}, \"type\": \"scattergeo\"}], \"scattergl\": [{\"marker\": {\"colorbar\": {\"outlinewidth\": 0, \"ticks\": \"\"}}, \"type\": \"scattergl\"}], \"scattermapbox\": [{\"marker\": {\"colorbar\": {\"outlinewidth\": 0, \"ticks\": \"\"}}, \"type\": \"scattermapbox\"}], \"scatterpolar\": [{\"marker\": {\"colorbar\": {\"outlinewidth\": 0, \"ticks\": \"\"}}, \"type\": \"scatterpolar\"}], \"scatterpolargl\": [{\"marker\": {\"colorbar\": {\"outlinewidth\": 0, \"ticks\": \"\"}}, \"type\": \"scatterpolargl\"}], \"scatterternary\": [{\"marker\": {\"colorbar\": {\"outlinewidth\": 0, \"ticks\": \"\"}}, \"type\": \"scatterternary\"}], \"surface\": [{\"colorbar\": {\"outlinewidth\": 0, \"ticks\": \"\"}, \"colorscale\": [[0.0, \"#0d0887\"], [0.1111111111111111, \"#46039f\"], [0.2222222222222222, \"#7201a8\"], [0.3333333333333333, \"#9c179e\"], [0.4444444444444444, \"#bd3786\"], [0.5555555555555556, \"#d8576b\"], [0.6666666666666666, \"#ed7953\"], [0.7777777777777778, \"#fb9f3a\"], [0.8888888888888888, \"#fdca26\"], [1.0, \"#f0f921\"]], \"type\": \"surface\"}], \"table\": [{\"cells\": {\"fill\": {\"color\": \"#EBF0F8\"}, \"line\": {\"color\": \"white\"}}, \"header\": {\"fill\": {\"color\": \"#C8D4E3\"}, \"line\": {\"color\": \"white\"}}, \"type\": \"table\"}]}, \"layout\": {\"annotationdefaults\": {\"arrowcolor\": \"#2a3f5f\", \"arrowhead\": 0, \"arrowwidth\": 1}, \"colorscale\": {\"diverging\": [[0, \"#8e0152\"], [0.1, \"#c51b7d\"], [0.2, \"#de77ae\"], [0.3, \"#f1b6da\"], [0.4, \"#fde0ef\"], [0.5, \"#f7f7f7\"], [0.6, \"#e6f5d0\"], [0.7, \"#b8e186\"], [0.8, \"#7fbc41\"], [0.9, \"#4d9221\"], [1, \"#276419\"]], \"sequential\": [[0.0, \"#0d0887\"], [0.1111111111111111, \"#46039f\"], [0.2222222222222222, \"#7201a8\"], [0.3333333333333333, \"#9c179e\"], [0.4444444444444444, \"#bd3786\"], [0.5555555555555556, \"#d8576b\"], [0.6666666666666666, \"#ed7953\"], [0.7777777777777778, \"#fb9f3a\"], [0.8888888888888888, \"#fdca26\"], [1.0, \"#f0f921\"]], \"sequentialminus\": [[0.0, \"#0d0887\"], [0.1111111111111111, \"#46039f\"], [0.2222222222222222, \"#7201a8\"], [0.3333333333333333, \"#9c179e\"], [0.4444444444444444, \"#bd3786\"], [0.5555555555555556, \"#d8576b\"], [0.6666666666666666, \"#ed7953\"], [0.7777777777777778, \"#fb9f3a\"], [0.8888888888888888, \"#fdca26\"], [1.0, \"#f0f921\"]]}, \"colorway\": [\"#636efa\", \"#EF553B\", \"#00cc96\", \"#ab63fa\", \"#FFA15A\", \"#19d3f3\", \"#FF6692\", \"#B6E880\", \"#FF97FF\", \"#FECB52\"], \"font\": {\"color\": \"#2a3f5f\"}, \"geo\": {\"bgcolor\": \"white\", \"lakecolor\": \"white\", \"landcolor\": \"#E5ECF6\", \"showlakes\": true, \"showland\": true, \"subunitcolor\": \"white\"}, \"hoverlabel\": {\"align\": \"left\"}, \"hovermode\": \"closest\", \"mapbox\": {\"style\": \"light\"}, \"paper_bgcolor\": \"white\", \"plot_bgcolor\": \"#E5ECF6\", \"polar\": {\"angularaxis\": {\"gridcolor\": \"white\", \"linecolor\": \"white\", \"ticks\": \"\"}, \"bgcolor\": \"#E5ECF6\", \"radialaxis\": {\"gridcolor\": \"white\", \"linecolor\": \"white\", \"ticks\": \"\"}}, \"scene\": {\"xaxis\": {\"backgroundcolor\": \"#E5ECF6\", \"gridcolor\": \"white\", \"gridwidth\": 2, \"linecolor\": \"white\", \"showbackground\": true, \"ticks\": \"\", \"zerolinecolor\": \"white\"}, \"yaxis\": {\"backgroundcolor\": \"#E5ECF6\", \"gridcolor\": \"white\", \"gridwidth\": 2, \"linecolor\": \"white\", \"showbackground\": true, \"ticks\": \"\", \"zerolinecolor\": \"white\"}, \"zaxis\": {\"backgroundcolor\": \"#E5ECF6\", \"gridcolor\": \"white\", \"gridwidth\": 2, \"linecolor\": \"white\", \"showbackground\": true, \"ticks\": \"\", \"zerolinecolor\": \"white\"}}, \"shapedefaults\": {\"line\": {\"color\": \"#2a3f5f\"}}, \"ternary\": {\"aaxis\": {\"gridcolor\": \"white\", \"linecolor\": \"white\", \"ticks\": \"\"}, \"baxis\": {\"gridcolor\": \"white\", \"linecolor\": \"white\", \"ticks\": \"\"}, \"bgcolor\": \"#E5ECF6\", \"caxis\": {\"gridcolor\": \"white\", \"linecolor\": \"white\", \"ticks\": \"\"}}, \"title\": {\"x\": 0.05}, \"xaxis\": {\"automargin\": true, \"gridcolor\": \"white\", \"linecolor\": \"white\", \"ticks\": \"\", \"zerolinecolor\": \"white\", \"zerolinewidth\": 2}, \"yaxis\": {\"automargin\": true, \"gridcolor\": \"white\", \"linecolor\": \"white\", \"ticks\": \"\", \"zerolinecolor\": \"white\", \"zerolinewidth\": 2}}}, \"title\": {\"text\": \"Top 50 Songs of artists by their popularity\"}, \"xaxis\": {\"anchor\": \"y\", \"domain\": [0.0, 0.98], \"tickangle\": 45, \"title\": {\"text\": \"Artist.Name\"}}, \"yaxis\": {\"anchor\": \"x\", \"domain\": [0.0, 1.0], \"title\": {\"text\": \"Popularity\"}}},\n",
       "                        {\"responsive\": true}\n",
       "                    ).then(function(){\n",
       "                            \n",
       "var gd = document.getElementById('e36f9653-e9d7-4020-bb22-2ddb35f15af6');\n",
       "var x = new MutationObserver(function (mutations, observer) {{\n",
       "        var display = window.getComputedStyle(gd).display;\n",
       "        if (!display || display === 'none') {{\n",
       "            console.log([gd, 'removed!']);\n",
       "            Plotly.purge(gd);\n",
       "            observer.disconnect();\n",
       "        }}\n",
       "}});\n",
       "\n",
       "// Listen for the removal of the full notebook cells\n",
       "var notebookContainer = gd.closest('#notebook-container');\n",
       "if (notebookContainer) {{\n",
       "    x.observe(notebookContainer, {childList: true});\n",
       "}}\n",
       "\n",
       "// Listen for the clearing of the current output cell\n",
       "var outputEl = gd.closest('.output');\n",
       "if (outputEl) {{\n",
       "    x.observe(outputEl, {childList: true});\n",
       "}}\n",
       "\n",
       "                        })\n",
       "                };\n",
       "                });\n",
       "            </script>\n",
       "        </div>"
      ]
     },
     "metadata": {},
     "output_type": "display_data"
    }
   ],
   "source": [
    "#Plotly library is another EDA tool useful to vizualise the data in the form of plots\n",
    "import plotly.express as px\n",
    "\n",
    "fig = px.box(songs,x='Artist.Name',y='Popularity')\n",
    "fig.update_layout(title_text='Top 50 Songs of artists by their popularity',xaxis=dict(tickangle=45))\n",
    "fig.show()"
   ]
  },
  {
   "cell_type": "markdown",
   "metadata": {},
   "source": [
    "### The Notebook is WIP and will keep on working further"
   ]
  },
  {
   "cell_type": "code",
   "execution_count": null,
   "metadata": {},
   "outputs": [],
   "source": []
  }
 ],
 "metadata": {
  "kernelspec": {
   "display_name": "Python 3",
   "language": "python",
   "name": "python3"
  },
  "language_info": {
   "codemirror_mode": {
    "name": "ipython",
    "version": 3
   },
   "file_extension": ".py",
   "mimetype": "text/x-python",
   "name": "python",
   "nbconvert_exporter": "python",
   "pygments_lexer": "ipython3",
   "version": "3.7.3"
  }
 },
 "nbformat": 4,
 "nbformat_minor": 2
}
