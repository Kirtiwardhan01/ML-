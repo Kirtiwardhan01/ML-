{
  "nbformat": 4,
  "nbformat_minor": 0,
  "metadata": {
    "colab": {
      "name": "Untitled0.ipynb",
      "provenance": [],
      "authorship_tag": "ABX9TyOel7QgITFsuZZ10x28T550",
      "include_colab_link": true
    },
    "kernelspec": {
      "name": "python3",
      "display_name": "Python 3"
    },
    "accelerator": "GPU"
  },
  "cells": [
    {
      "cell_type": "markdown",
      "metadata": {
        "id": "view-in-github",
        "colab_type": "text"
      },
      "source": [
        "<a href=\"https://colab.research.google.com/github/Kirtiwardhan01/ML-/blob/master/Churn%20Dataset%20-%20Standard%20format.ipynb\" target=\"_parent\"><img src=\"https://colab.research.google.com/assets/colab-badge.svg\" alt=\"Open In Colab\"/></a>"
      ]
    },
    {
      "cell_type": "markdown",
      "metadata": {
        "id": "cC8AqDg4OZkY",
        "colab_type": "text"
      },
      "source": [
        "### Churning data - Customer Segmentation  "
      ]
    },
    {
      "cell_type": "markdown",
      "metadata": {
        "id": "rB1VDyE_7h34",
        "colab_type": "text"
      },
      "source": [
        "**Topics**\n",
        "\n",
        "Review of model evaluation\n",
        "\n",
        "Model evaluation procedures\n",
        "\n",
        "Model evaluation metrics\n",
        "\n",
        "Classification accuracy\n",
        "\n",
        "Confusion matrix\n",
        "\n",
        "Metrics computed from a confusion matrix\n",
        "\n",
        "Adjusting the classification threshold\n",
        "\n",
        "Receiver Operating Characteristic (ROC) Curves\n",
        "\n",
        "Area Under the Curve (AUC)\n"
      ]
    },
    {
      "cell_type": "markdown",
      "metadata": {
        "id": "GgPgMHWl71_p",
        "colab_type": "text"
      },
      "source": [
        "**Review of model evaluation**\n",
        "\n",
        "Need a way to choose between models: different model types, tuning parameters, and features\n",
        "\n",
        "Use a model evaluation procedure to estimate how well a model will generalize to out-of-sample data\n",
        "\n",
        "Requires a model evaluation metric to quantify the model performance"
      ]
    },
    {
      "cell_type": "markdown",
      "metadata": {
        "id": "bHy5ifdF8LoS",
        "colab_type": "text"
      },
      "source": [
        "**Model evaluation procedures**\n",
        "Training and testing on the same data\n",
        "\n",
        "Rewards overly complex models that \"overfit\" the training data and won't necessarily generalize\n",
        "Train/test split\n",
        "\n",
        "Split the dataset into two pieces, so that the model can be trained and tested on different data\n",
        "\n",
        "Better estimate of out-of-sample performance, but still a \"high variance\" estimate\n",
        "\n",
        "Useful due to its speed, simplicity, and flexibility\n",
        "\n",
        "K-fold cross-validation\n",
        "Systematically create \"K\" train/test splits and average the results together\n",
        "Even better estimate of out-of-sample performance\n",
        "Runs \"K\" times slower than train/test split"
      ]
    },
    {
      "cell_type": "markdown",
      "metadata": {
        "id": "r6C5hXjk1Q_u",
        "colab_type": "text"
      },
      "source": [
        "\n",
        "#### Importing the packages and dataset"
      ]
    },
    {
      "cell_type": "code",
      "metadata": {
        "id": "r9zkTlba0xhr",
        "colab_type": "code",
        "colab": {
          "base_uri": "https://localhost:8080/",
          "height": 71
        },
        "outputId": "e15020d6-7d50-4186-83f3-c9447d6d2b81"
      },
      "source": [
        "import numpy as np\n",
        "import pandas as pd\n",
        "\n",
        "import matplotlib.pyplot as plt\n",
        "import seaborn as sns\n",
        "\n",
        "%matplotlib inline\n",
        "\n",
        " "
      ],
      "execution_count": 1,
      "outputs": [
        {
          "output_type": "stream",
          "text": [
            "/usr/local/lib/python3.6/dist-packages/statsmodels/tools/_testing.py:19: FutureWarning: pandas.util.testing is deprecated. Use the functions in the public API at pandas.testing instead.\n",
            "  import pandas.util.testing as tm\n"
          ],
          "name": "stderr"
        }
      ]
    },
    {
      "cell_type": "markdown",
      "metadata": {
        "id": "Sc3cVFJS1O1y",
        "colab_type": "text"
      },
      "source": [
        "#### Exploring the dataset"
      ]
    },
    {
      "cell_type": "code",
      "metadata": {
        "id": "yevSQggN006J",
        "colab_type": "code",
        "colab": {
          "base_uri": "https://localhost:8080/",
          "height": 309
        },
        "outputId": "bb6b782e-148c-4c9d-dd4c-0d41b7bdc24e"
      },
      "source": [
        "churn_master_df = pd.read_csv('https://raw.githubusercontent.com/srivatsan88/YouTubeLI/master/dataset/churn_data_st.csv')\n",
        "churn_master_df.head()"
      ],
      "execution_count": 2,
      "outputs": [
        {
          "output_type": "execute_result",
          "data": {
            "text/html": [
              "<div>\n",
              "<style scoped>\n",
              "    .dataframe tbody tr th:only-of-type {\n",
              "        vertical-align: middle;\n",
              "    }\n",
              "\n",
              "    .dataframe tbody tr th {\n",
              "        vertical-align: top;\n",
              "    }\n",
              "\n",
              "    .dataframe thead th {\n",
              "        text-align: right;\n",
              "    }\n",
              "</style>\n",
              "<table border=\"1\" class=\"dataframe\">\n",
              "  <thead>\n",
              "    <tr style=\"text-align: right;\">\n",
              "      <th></th>\n",
              "      <th>customerID</th>\n",
              "      <th>gender</th>\n",
              "      <th>SeniorCitizen</th>\n",
              "      <th>tenure</th>\n",
              "      <th>ServiceCount</th>\n",
              "      <th>Contract</th>\n",
              "      <th>PaperlessBilling</th>\n",
              "      <th>MonthlyCharges</th>\n",
              "      <th>TotalCharges</th>\n",
              "      <th>Churn</th>\n",
              "    </tr>\n",
              "  </thead>\n",
              "  <tbody>\n",
              "    <tr>\n",
              "      <th>0</th>\n",
              "      <td>7590-VHVEG</td>\n",
              "      <td>Female</td>\n",
              "      <td>0</td>\n",
              "      <td>1</td>\n",
              "      <td>2</td>\n",
              "      <td>Month-to-month</td>\n",
              "      <td>Yes</td>\n",
              "      <td>29.85</td>\n",
              "      <td>29.85</td>\n",
              "      <td>No</td>\n",
              "    </tr>\n",
              "    <tr>\n",
              "      <th>1</th>\n",
              "      <td>5575-GNVDE</td>\n",
              "      <td>Male</td>\n",
              "      <td>0</td>\n",
              "      <td>34</td>\n",
              "      <td>4</td>\n",
              "      <td>One year</td>\n",
              "      <td>No</td>\n",
              "      <td>56.95</td>\n",
              "      <td>1889.50</td>\n",
              "      <td>No</td>\n",
              "    </tr>\n",
              "    <tr>\n",
              "      <th>2</th>\n",
              "      <td>3668-QPYBK</td>\n",
              "      <td>Male</td>\n",
              "      <td>0</td>\n",
              "      <td>2</td>\n",
              "      <td>4</td>\n",
              "      <td>Month-to-month</td>\n",
              "      <td>Yes</td>\n",
              "      <td>53.85</td>\n",
              "      <td>108.15</td>\n",
              "      <td>Yes</td>\n",
              "    </tr>\n",
              "    <tr>\n",
              "      <th>3</th>\n",
              "      <td>7795-CFOCW</td>\n",
              "      <td>Male</td>\n",
              "      <td>0</td>\n",
              "      <td>45</td>\n",
              "      <td>4</td>\n",
              "      <td>One year</td>\n",
              "      <td>No</td>\n",
              "      <td>42.30</td>\n",
              "      <td>1840.75</td>\n",
              "      <td>No</td>\n",
              "    </tr>\n",
              "    <tr>\n",
              "      <th>4</th>\n",
              "      <td>9237-HQITU</td>\n",
              "      <td>Female</td>\n",
              "      <td>0</td>\n",
              "      <td>2</td>\n",
              "      <td>2</td>\n",
              "      <td>Month-to-month</td>\n",
              "      <td>Yes</td>\n",
              "      <td>70.70</td>\n",
              "      <td>151.65</td>\n",
              "      <td>Yes</td>\n",
              "    </tr>\n",
              "  </tbody>\n",
              "</table>\n",
              "</div>"
            ],
            "text/plain": [
              "   customerID  gender  SeniorCitizen  ...  MonthlyCharges  TotalCharges Churn\n",
              "0  7590-VHVEG  Female              0  ...           29.85         29.85    No\n",
              "1  5575-GNVDE    Male              0  ...           56.95       1889.50    No\n",
              "2  3668-QPYBK    Male              0  ...           53.85        108.15   Yes\n",
              "3  7795-CFOCW    Male              0  ...           42.30       1840.75    No\n",
              "4  9237-HQITU  Female              0  ...           70.70        151.65   Yes\n",
              "\n",
              "[5 rows x 10 columns]"
            ]
          },
          "metadata": {
            "tags": []
          },
          "execution_count": 2
        }
      ]
    },
    {
      "cell_type": "code",
      "metadata": {
        "id": "dEl2GpUI2exT",
        "colab_type": "code",
        "colab": {
          "base_uri": "https://localhost:8080/",
          "height": 306
        },
        "outputId": "662f5fa1-9266-45f5-e580-0b1e54a8531e"
      },
      "source": [
        "churn_master_df.info()"
      ],
      "execution_count": 3,
      "outputs": [
        {
          "output_type": "stream",
          "text": [
            "<class 'pandas.core.frame.DataFrame'>\n",
            "RangeIndex: 7043 entries, 0 to 7042\n",
            "Data columns (total 10 columns):\n",
            " #   Column            Non-Null Count  Dtype  \n",
            "---  ------            --------------  -----  \n",
            " 0   customerID        7043 non-null   object \n",
            " 1   gender            7043 non-null   object \n",
            " 2   SeniorCitizen     7043 non-null   int64  \n",
            " 3   tenure            7043 non-null   int64  \n",
            " 4   ServiceCount      7043 non-null   int64  \n",
            " 5   Contract          7043 non-null   object \n",
            " 6   PaperlessBilling  7043 non-null   object \n",
            " 7   MonthlyCharges    7043 non-null   float64\n",
            " 8   TotalCharges      7016 non-null   float64\n",
            " 9   Churn             7043 non-null   object \n",
            "dtypes: float64(2), int64(3), object(5)\n",
            "memory usage: 550.4+ KB\n"
          ],
          "name": "stdout"
        }
      ]
    },
    {
      "cell_type": "code",
      "metadata": {
        "id": "PUhkaENfSKZS",
        "colab_type": "code",
        "colab": {}
      },
      "source": [
        "churn_master_df.dropna(inplace=True)"
      ],
      "execution_count": 0,
      "outputs": []
    },
    {
      "cell_type": "markdown",
      "metadata": {
        "id": "_FN4gZpN1g3O",
        "colab_type": "text"
      },
      "source": [
        "Descriptive Statistics"
      ]
    },
    {
      "cell_type": "code",
      "metadata": {
        "id": "z0v0kvY504Oe",
        "colab_type": "code",
        "colab": {
          "base_uri": "https://localhost:8080/",
          "height": 297
        },
        "outputId": "5e3b8620-1097-4b0d-b3fc-623ccd6d193f"
      },
      "source": [
        "churn_master_df.describe()"
      ],
      "execution_count": 5,
      "outputs": [
        {
          "output_type": "execute_result",
          "data": {
            "text/html": [
              "<div>\n",
              "<style scoped>\n",
              "    .dataframe tbody tr th:only-of-type {\n",
              "        vertical-align: middle;\n",
              "    }\n",
              "\n",
              "    .dataframe tbody tr th {\n",
              "        vertical-align: top;\n",
              "    }\n",
              "\n",
              "    .dataframe thead th {\n",
              "        text-align: right;\n",
              "    }\n",
              "</style>\n",
              "<table border=\"1\" class=\"dataframe\">\n",
              "  <thead>\n",
              "    <tr style=\"text-align: right;\">\n",
              "      <th></th>\n",
              "      <th>SeniorCitizen</th>\n",
              "      <th>tenure</th>\n",
              "      <th>ServiceCount</th>\n",
              "      <th>MonthlyCharges</th>\n",
              "      <th>TotalCharges</th>\n",
              "    </tr>\n",
              "  </thead>\n",
              "  <tbody>\n",
              "    <tr>\n",
              "      <th>count</th>\n",
              "      <td>7016.000000</td>\n",
              "      <td>7016.000000</td>\n",
              "      <td>7016.000000</td>\n",
              "      <td>7016.000000</td>\n",
              "      <td>7016.000000</td>\n",
              "    </tr>\n",
              "    <tr>\n",
              "      <th>mean</th>\n",
              "      <td>0.162201</td>\n",
              "      <td>32.409350</td>\n",
              "      <td>5.441847</td>\n",
              "      <td>64.801981</td>\n",
              "      <td>2282.589168</td>\n",
              "    </tr>\n",
              "    <tr>\n",
              "      <th>std</th>\n",
              "      <td>0.368661</td>\n",
              "      <td>24.536259</td>\n",
              "      <td>1.965355</td>\n",
              "      <td>30.070812</td>\n",
              "      <td>2265.506114</td>\n",
              "    </tr>\n",
              "    <tr>\n",
              "      <th>min</th>\n",
              "      <td>0.000000</td>\n",
              "      <td>1.000000</td>\n",
              "      <td>1.000000</td>\n",
              "      <td>18.250000</td>\n",
              "      <td>18.800000</td>\n",
              "    </tr>\n",
              "    <tr>\n",
              "      <th>25%</th>\n",
              "      <td>0.000000</td>\n",
              "      <td>9.000000</td>\n",
              "      <td>4.000000</td>\n",
              "      <td>35.650000</td>\n",
              "      <td>401.925000</td>\n",
              "    </tr>\n",
              "    <tr>\n",
              "      <th>50%</th>\n",
              "      <td>0.000000</td>\n",
              "      <td>29.000000</td>\n",
              "      <td>6.000000</td>\n",
              "      <td>70.350000</td>\n",
              "      <td>1397.100000</td>\n",
              "    </tr>\n",
              "    <tr>\n",
              "      <th>75%</th>\n",
              "      <td>0.000000</td>\n",
              "      <td>55.000000</td>\n",
              "      <td>7.000000</td>\n",
              "      <td>89.850000</td>\n",
              "      <td>3792.325000</td>\n",
              "    </tr>\n",
              "    <tr>\n",
              "      <th>max</th>\n",
              "      <td>1.000000</td>\n",
              "      <td>72.000000</td>\n",
              "      <td>9.000000</td>\n",
              "      <td>118.750000</td>\n",
              "      <td>8684.800000</td>\n",
              "    </tr>\n",
              "  </tbody>\n",
              "</table>\n",
              "</div>"
            ],
            "text/plain": [
              "       SeniorCitizen       tenure  ServiceCount  MonthlyCharges  TotalCharges\n",
              "count    7016.000000  7016.000000   7016.000000     7016.000000   7016.000000\n",
              "mean        0.162201    32.409350      5.441847       64.801981   2282.589168\n",
              "std         0.368661    24.536259      1.965355       30.070812   2265.506114\n",
              "min         0.000000     1.000000      1.000000       18.250000     18.800000\n",
              "25%         0.000000     9.000000      4.000000       35.650000    401.925000\n",
              "50%         0.000000    29.000000      6.000000       70.350000   1397.100000\n",
              "75%         0.000000    55.000000      7.000000       89.850000   3792.325000\n",
              "max         1.000000    72.000000      9.000000      118.750000   8684.800000"
            ]
          },
          "metadata": {
            "tags": []
          },
          "execution_count": 5
        }
      ]
    },
    {
      "cell_type": "markdown",
      "metadata": {
        "id": "3DuUDk-LFnF5",
        "colab_type": "text"
      },
      "source": [
        "#### Dummy encode the categorical variables"
      ]
    },
    {
      "cell_type": "code",
      "metadata": {
        "id": "-E-NyiU08aVa",
        "colab_type": "code",
        "colab": {}
      },
      "source": [
        "gender_dummies=pd.get_dummies(churn_master_df.gender, prefix='gender',drop_first=True)\n",
        "Contract_dummies=pd.get_dummies(churn_master_df.Contract, prefix='Contract',drop_first=True)\n",
        "PaperlessBilling_dummies=pd.get_dummies(churn_master_df.PaperlessBilling,prefix='Paperless Billing',drop_first=True)\n",
        "Churn_dummies=pd.get_dummies(churn_master_df.Churn,prefix='Churn',drop_first=True)\n",
        "Seniorcitizen_dummies = pd.get_dummies(churn_master_df.SeniorCitizen,prefix='Senior Citizen',drop_first=True)\n",
        "ServiceCount_dummies = pd.get_dummies(churn_master_df.ServiceCount,prefix='ServiceCount',drop_first=True)"
      ],
      "execution_count": 0,
      "outputs": []
    },
    {
      "cell_type": "markdown",
      "metadata": {
        "id": "TcYSSPvhFvL9",
        "colab_type": "text"
      },
      "source": [
        "#### Append the dummy-encoded variables with original dataframe"
      ]
    },
    {
      "cell_type": "code",
      "metadata": {
        "id": "91_BGeMO8xYo",
        "colab_type": "code",
        "colab": {
          "base_uri": "https://localhost:8080/",
          "height": 34
        },
        "outputId": "7ae8d612-7551-46ba-9989-bc1d426467ba"
      },
      "source": [
        "churn_master_df=pd.concat([churn_master_df,gender_dummies,ServiceCount_dummies,Seniorcitizen_dummies,Contract_dummies,PaperlessBilling_dummies,Churn_dummies,], axis=1)\n",
        "churn_master_df.shape"
      ],
      "execution_count": 7,
      "outputs": [
        {
          "output_type": "execute_result",
          "data": {
            "text/plain": [
              "(7016, 24)"
            ]
          },
          "metadata": {
            "tags": []
          },
          "execution_count": 7
        }
      ]
    },
    {
      "cell_type": "markdown",
      "metadata": {
        "id": "wI0MhIZuF7Af",
        "colab_type": "text"
      },
      "source": [
        "#### Drop the variables which were dummy-encoded"
      ]
    },
    {
      "cell_type": "code",
      "metadata": {
        "id": "L9rRVBka_yA4",
        "colab_type": "code",
        "colab": {}
      },
      "source": [
        "del churn_master_df['gender']\n",
        "del churn_master_df['Contract']\n",
        "del churn_master_df['PaperlessBilling']\n",
        "del churn_master_df['Churn']\n",
        "del churn_master_df['customerID']\n",
        "del churn_master_df['SeniorCitizen']\n",
        "del churn_master_df['ServiceCount']\n"
      ],
      "execution_count": 0,
      "outputs": []
    },
    {
      "cell_type": "code",
      "metadata": {
        "id": "mytX1ADVD75t",
        "colab_type": "code",
        "colab": {
          "base_uri": "https://localhost:8080/",
          "height": 34
        },
        "outputId": "b16a2e15-d2be-42e9-c0f6-98eebacdac0a"
      },
      "source": [
        "churn_master_df.shape"
      ],
      "execution_count": 9,
      "outputs": [
        {
          "output_type": "execute_result",
          "data": {
            "text/plain": [
              "(7016, 17)"
            ]
          },
          "metadata": {
            "tags": []
          },
          "execution_count": 9
        }
      ]
    },
    {
      "cell_type": "markdown",
      "metadata": {
        "id": "ZIkz0YQeGGvu",
        "colab_type": "text"
      },
      "source": [
        "#### Define input features and output variable"
      ]
    },
    {
      "cell_type": "code",
      "metadata": {
        "id": "MkuOQxZIELHq",
        "colab_type": "code",
        "colab": {
          "base_uri": "https://localhost:8080/",
          "height": 51
        },
        "outputId": "c622831b-5713-441e-f987-e2535f973d28"
      },
      "source": [
        "target=churn_master_df.Churn_Yes\n",
        "churn_master_df.drop(['Churn_Yes'],1,inplace=True)\n",
        "features=churn_master_df\n",
        "print(features.shape)\n",
        "print(target.shape)"
      ],
      "execution_count": 10,
      "outputs": [
        {
          "output_type": "stream",
          "text": [
            "(7016, 16)\n",
            "(7016,)\n"
          ],
          "name": "stdout"
        }
      ]
    },
    {
      "cell_type": "markdown",
      "metadata": {
        "id": "O6scfHR7Hbfl",
        "colab_type": "text"
      },
      "source": [
        "Split input and output into desired splits of train and validation"
      ]
    },
    {
      "cell_type": "code",
      "metadata": {
        "id": "Lev7bnP-N9y-",
        "colab_type": "code",
        "colab": {}
      },
      "source": [
        "from sklearn.preprocessing import StandardScaler\n",
        "ss=StandardScaler()\n",
        "\n",
        "feature_set=ss.fit_transform(features)"
      ],
      "execution_count": 0,
      "outputs": []
    },
    {
      "cell_type": "code",
      "metadata": {
        "id": "hhG3GaKbHGvB",
        "colab_type": "code",
        "colab": {
          "base_uri": "https://localhost:8080/",
          "height": 85
        },
        "outputId": "18c95bb9-7837-4b7c-bf50-838ecd2aff1b"
      },
      "source": [
        "from sklearn.model_selection import train_test_split\n",
        "x_train,x_test,y_train,y_test=train_test_split(feature_set,target,test_size=0.30,random_state=1234)\n",
        "print(x_train.shape)\n",
        "print(y_train.shape)\n",
        "print(x_test.shape)\n",
        "print(y_test.shape)"
      ],
      "execution_count": 29,
      "outputs": [
        {
          "output_type": "stream",
          "text": [
            "(4911, 16)\n",
            "(4911,)\n",
            "(2105, 16)\n",
            "(2105,)\n"
          ],
          "name": "stdout"
        }
      ]
    },
    {
      "cell_type": "code",
      "metadata": {
        "id": "yEXojFoRHmKp",
        "colab_type": "code",
        "colab": {}
      },
      "source": [
        "from sklearn.linear_model import LogisticRegression\n",
        "reg = LogisticRegression(C=1.0, class_weight='balanced', dual=False, \tfit_intercept=True,intercept_scaling=1, l1_ratio=None, max_iter=100,\n",
        "                      multi_class='auto', n_jobs=None, penalty='l2',\n",
        "                      random_state=7066, solver='lbfgs', tol=0.0001, verbose=0,\n",
        "                      warm_start=False)\n",
        "\n",
        "from sklearn.metrics import confusion_matrix\n",
        "cf = confusion_matrix\n"
      ],
      "execution_count": 0,
      "outputs": []
    },
    {
      "cell_type": "code",
      "metadata": {
        "id": "vtUwVUWxKBKl",
        "colab_type": "code",
        "colab": {
          "base_uri": "https://localhost:8080/",
          "height": 102
        },
        "outputId": "81e12fa4-bd1d-4b32-9a35-0d4e66c6f741"
      },
      "source": [
        "#Building the model\n",
        "churn_model = reg.fit(x_train,y_train)\n",
        "churn_model"
      ],
      "execution_count": 31,
      "outputs": [
        {
          "output_type": "execute_result",
          "data": {
            "text/plain": [
              "LogisticRegression(C=1.0, class_weight='balanced', dual=False,\n",
              "                   fit_intercept=True, intercept_scaling=1, l1_ratio=None,\n",
              "                   max_iter=100, multi_class='auto', n_jobs=None, penalty='l2',\n",
              "                   random_state=7066, solver='lbfgs', tol=0.0001, verbose=0,\n",
              "                   warm_start=False)"
            ]
          },
          "metadata": {
            "tags": []
          },
          "execution_count": 31
        }
      ]
    },
    {
      "cell_type": "code",
      "metadata": {
        "id": "WWdAUWJEKT_8",
        "colab_type": "code",
        "colab": {}
      },
      "source": [
        "#Doing the prediction \n",
        "pred_churn = reg.predict(x_test)"
      ],
      "execution_count": 0,
      "outputs": []
    },
    {
      "cell_type": "code",
      "metadata": {
        "id": "IARdgrEWf-se",
        "colab_type": "code",
        "colab": {}
      },
      "source": [
        "from sklearn.metrics import accuracy_score\n",
        "from sklearn.metrics import precision_score\n",
        "from sklearn.metrics import recall_score\n",
        "from sklearn.metrics import f1_score"
      ],
      "execution_count": 0,
      "outputs": []
    },
    {
      "cell_type": "markdown",
      "metadata": {
        "id": "l1X2W8jA8-Cj",
        "colab_type": "text"
      },
      "source": [
        "**Classification accuracy:** percentage of correct predictions"
      ]
    },
    {
      "cell_type": "code",
      "metadata": {
        "id": "Z3V2tFb-gIE7",
        "colab_type": "code",
        "colab": {
          "base_uri": "https://localhost:8080/",
          "height": 85
        },
        "outputId": "07f84926-c2bf-4836-faf3-28c4f9eb8ad7"
      },
      "source": [
        "predictions = [value for value in pred_churn]\n",
        "accuracy = accuracy_score(y_test, predictions)\n",
        "precision = precision_score(y_test, predictions)\n",
        "recall = recall_score(y_test, predictions)\n",
        "f1 = f1_score(y_test, predictions)\n",
        "print(\"Accuracy_score: %.2f%% on test dataset\" % (accuracy * 100.0))\n",
        "print(\"precision_score: %.2f%% on test dataset\" % (precision * 100.0))\n",
        "print(\"recall_score: %.2f%% on test dataset\" % (recall * 100.0))\n",
        "print(\"f1_score: %.2f%% on test dataset\" % (f1 * 100.0))"
      ],
      "execution_count": 52,
      "outputs": [
        {
          "output_type": "stream",
          "text": [
            "Accuracy_score: 74.49% on test dataset\n",
            "precision_score: 51.02% on test dataset\n",
            "recall_score: 81.44% on test dataset\n",
            "f1_score: 62.73% on test dataset\n"
          ],
          "name": "stdout"
        }
      ]
    },
    {
      "cell_type": "markdown",
      "metadata": {
        "id": "AiiHYOnh9KHW",
        "colab_type": "text"
      },
      "source": [
        "**Null accuracy:** accuracy that could be achieved by always predicting the most frequent class\n",
        "\n",
        "We must always compare with this"
      ]
    },
    {
      "cell_type": "code",
      "metadata": {
        "id": "8jOZoM_G9Tk1",
        "colab_type": "code",
        "colab": {
          "base_uri": "https://localhost:8080/",
          "height": 68
        },
        "outputId": "953bc094-134e-496a-fe31-8ef2366e8ae8"
      },
      "source": [
        "# examine the class distribution of the testing set (using a Pandas Series method)\n",
        "y_test.value_counts()"
      ],
      "execution_count": 53,
      "outputs": [
        {
          "output_type": "execute_result",
          "data": {
            "text/plain": [
              "0    1550\n",
              "1     555\n",
              "Name: Churn_Yes, dtype: int64"
            ]
          },
          "metadata": {
            "tags": []
          },
          "execution_count": 53
        }
      ]
    },
    {
      "cell_type": "code",
      "metadata": {
        "id": "FCJ2UtrD9h6c",
        "colab_type": "code",
        "colab": {
          "base_uri": "https://localhost:8080/",
          "height": 34
        },
        "outputId": "74f07b44-386a-4bad-e6f3-f3d2100599ae"
      },
      "source": [
        "# calculate the percentage of ones\n",
        "# because y_test only contains ones and zeros, we can simply calculate the mean = percentage of ones\n",
        "y_test.mean()"
      ],
      "execution_count": 54,
      "outputs": [
        {
          "output_type": "execute_result",
          "data": {
            "text/plain": [
              "0.26365795724465557"
            ]
          },
          "metadata": {
            "tags": []
          },
          "execution_count": 54
        }
      ]
    },
    {
      "cell_type": "code",
      "metadata": {
        "id": "_Zeo-b9t9pY3",
        "colab_type": "code",
        "colab": {
          "base_uri": "https://localhost:8080/",
          "height": 34
        },
        "outputId": "9d442aef-85be-43ed-9a30-ab7865e2488f"
      },
      "source": [
        "# calculate the percentage of zeros\n",
        "1 - y_test.mean()"
      ],
      "execution_count": 55,
      "outputs": [
        {
          "output_type": "execute_result",
          "data": {
            "text/plain": [
              "0.7363420427553444"
            ]
          },
          "metadata": {
            "tags": []
          },
          "execution_count": 55
        }
      ]
    },
    {
      "cell_type": "code",
      "metadata": {
        "id": "xG54is089v7t",
        "colab_type": "code",
        "colab": {
          "base_uri": "https://localhost:8080/",
          "height": 34
        },
        "outputId": "3a261f8f-8232-45a0-a4a1-fc734d9ba074"
      },
      "source": [
        "# calculate null accuracy in a single line of code\n",
        "# only for binary classification problems coded as 0/1\n",
        "max(y_test.mean(), 1 - y_test.mean())"
      ],
      "execution_count": 56,
      "outputs": [
        {
          "output_type": "execute_result",
          "data": {
            "text/plain": [
              "0.7363420427553444"
            ]
          },
          "metadata": {
            "tags": []
          },
          "execution_count": 56
        }
      ]
    },
    {
      "cell_type": "markdown",
      "metadata": {
        "id": "QQqH839M942U",
        "colab_type": "text"
      },
      "source": [
        "This means that a dumb model that always predicts 0 would be right 74% of the time\n",
        "\n",
        "This shows how classification accuracy is not that good as it's close to a dumb model\n",
        "\n",
        "It's a good way to know the minimum we should achieve with our models\n"
      ]
    },
    {
      "cell_type": "code",
      "metadata": {
        "id": "_Oxr-BHL-CtB",
        "colab_type": "code",
        "colab": {
          "base_uri": "https://localhost:8080/",
          "height": 51
        },
        "outputId": "f8325793-887e-4d24-a57f-0eeba116f73d"
      },
      "source": [
        "# calculate null accuracy (for multi-class classification problems)\n",
        "y_test.value_counts().head(1) / len(y_test)"
      ],
      "execution_count": 57,
      "outputs": [
        {
          "output_type": "execute_result",
          "data": {
            "text/plain": [
              "0    0.736342\n",
              "Name: Churn_Yes, dtype: float64"
            ]
          },
          "metadata": {
            "tags": []
          },
          "execution_count": 57
        }
      ]
    },
    {
      "cell_type": "markdown",
      "metadata": {
        "id": "tlo0j8HG-Ioc",
        "colab_type": "text"
      },
      "source": [
        "Comparing the true and predicted response values"
      ]
    },
    {
      "cell_type": "code",
      "metadata": {
        "id": "uy2ShlnY-GnP",
        "colab_type": "code",
        "colab": {
          "base_uri": "https://localhost:8080/",
          "height": 51
        },
        "outputId": "da222af8-e023-4b3c-ddab-8f1efa74f5eb"
      },
      "source": [
        "print('True:', y_test.values[0:25])\n",
        "print('False:', pred_churn[0:25])"
      ],
      "execution_count": 58,
      "outputs": [
        {
          "output_type": "stream",
          "text": [
            "True: [0 0 0 1 1 1 0 0 0 0 0 0 0 1 0 0 0 1 0 1 1 0 0 0 0]\n",
            "False: [1 1 1 1 1 0 0 0 1 0 0 0 0 1 0 1 0 1 0 1 1 1 0 0 0]\n"
          ],
          "name": "stdout"
        }
      ]
    },
    {
      "cell_type": "markdown",
      "metadata": {
        "id": "WII8O_t0-b4N",
        "colab_type": "text"
      },
      "source": [
        "Conclusion:\n",
        "\n",
        "Classification accuracy is the easiest classification metric to understand\n",
        "But, it does not tell you the underlying distribution of response values\n",
        "\n",
        "We examine by calculating the null accuracy And, it does not tell you what \"types\" of errors your classifier is making"
      ]
    },
    {
      "cell_type": "markdown",
      "metadata": {
        "id": "zmshPQb8-jRz",
        "colab_type": "text"
      },
      "source": [
        "**Confusion matrix**\n",
        "\n",
        "Table that describes the performance of a classification model"
      ]
    },
    {
      "cell_type": "code",
      "metadata": {
        "id": "LlVAFU6q-shv",
        "colab_type": "code",
        "colab": {}
      },
      "source": [
        "# IMPORTANT: first argument is true values, second argument is predicted values\n",
        "# this produces a 2x2 numpy array (matrix)\n",
        "from sklearn import metrics\n",
        "from sklearn.metrics import confusion_matrix\n",
        "cf = (metrics.confusion_matrix(y_test, pred_churn))"
      ],
      "execution_count": 0,
      "outputs": []
    },
    {
      "cell_type": "code",
      "metadata": {
        "id": "ngWJwEfn_4S_",
        "colab_type": "code",
        "colab": {
          "base_uri": "https://localhost:8080/",
          "height": 282
        },
        "outputId": "60973dff-68b5-4faf-fd9e-6b1295d64ee9"
      },
      "source": [
        "cmap = sns.cubehelix_palette(50,hue = 0.05, rot = 0, light = 0.9, dark = 0, as_cmap = True)\n",
        "sns.heatmap(cf,cmap = cmap, xticklabels = ['Predicted 0', 'Predicted 1'], yticklabels = ['Actual 0', 'Actual 1'], annot = True, fmt = \"d\")"
      ],
      "execution_count": 61,
      "outputs": [
        {
          "output_type": "execute_result",
          "data": {
            "text/plain": [
              "<matplotlib.axes._subplots.AxesSubplot at 0x7feae1ce0a90>"
            ]
          },
          "metadata": {
            "tags": []
          },
          "execution_count": 61
        },
        {
          "output_type": "display_data",
          "data": {
            "image/png": "[encoded data removed]",
            "text/plain": [
              "<Figure size 432x288 with 2 Axes>"
            ]
          },
          "metadata": {
            "tags": [],
            "needs_background": "light"
          }
        }
      ]
    },
    {
      "cell_type": "markdown",
      "metadata": {
        "id": "R7AwtxBeAQV9",
        "colab_type": "text"
      },
      "source": [
        "Basic terminology\n",
        "\n",
        "**True Positives (TP):**\n",
        " we correctly predicted 452\n",
        "\n",
        "**True Negatives (TN):**\n",
        " we correctly predicted 1116\n",
        "\n",
        "**False Positives (FP):**\n",
        " we incorrectly predicted that they do have diabetes (a \"Type I error\")\n",
        "434\n",
        "\n",
        "**Falsely predict positive**\n",
        "\n",
        "Type I error\n",
        "\n",
        "**False Negatives (FN):**\n",
        " we incorrectly predicted that they don't have diabetes (a \"Type II error\")\n",
        "103\n",
        "\n",
        "**Falsely predict negative**\n",
        "\n",
        "Type II error\n",
        "\n",
        "**0: negative class**\n",
        "\n",
        "**1: positive class**\n"
      ]
    },
    {
      "cell_type": "code",
      "metadata": {
        "id": "B_-9rtvyCWE5",
        "colab_type": "code",
        "colab": {
          "base_uri": "https://localhost:8080/",
          "height": 51
        },
        "outputId": "158a4657-cf4e-4b09-f2e8-3fbe37a9ea53"
      },
      "source": [
        "# save confusion matrix and slice into four pieces\n",
        "confusion = metrics.confusion_matrix(y_test, pred_churn)\n",
        "print(confusion)\n",
        "#[row, column]\n",
        "TP = confusion[1, 1]\n",
        "TN = confusion[0, 0]\n",
        "FP = confusion[0, 1]\n",
        "FN = confusion[1, 0]"
      ],
      "execution_count": 62,
      "outputs": [
        {
          "output_type": "stream",
          "text": [
            "[[1116  434]\n",
            " [ 103  452]]\n"
          ],
          "name": "stdout"
        }
      ]
    },
    {
      "cell_type": "markdown",
      "metadata": {
        "id": "pPpG01JgCfiC",
        "colab_type": "text"
      },
      "source": [
        "Metrics computed from a confusion matrix\n",
        "\n",
        "Classification Accuracy: Overall, how often is the classifier correct?\n",
        "\n"
      ]
    },
    {
      "cell_type": "code",
      "metadata": {
        "id": "G_xizjXnCjMf",
        "colab_type": "code",
        "colab": {
          "base_uri": "https://localhost:8080/",
          "height": 51
        },
        "outputId": "6022d9f1-d33b-47e4-bbbb-f943f0df2d2b"
      },
      "source": [
        "# use float to perform true division, not integer division\n",
        "print((TP + TN) / float(TP + TN + FP + FN))\n",
        "print(metrics.accuracy_score(y_test, pred_churn))"
      ],
      "execution_count": 63,
      "outputs": [
        {
          "output_type": "stream",
          "text": [
            "0.7448931116389549\n",
            "0.7448931116389549\n"
          ],
          "name": "stdout"
        }
      ]
    },
    {
      "cell_type": "markdown",
      "metadata": {
        "id": "wqj2uP-zCqXk",
        "colab_type": "text"
      },
      "source": [
        "**Classification Error:** Overall, how often is the classifier incorrect?\n",
        "\n",
        "Also known as \"Misclassification Rate\""
      ]
    },
    {
      "cell_type": "code",
      "metadata": {
        "id": "pJRxaIUCCuir",
        "colab_type": "code",
        "colab": {
          "base_uri": "https://localhost:8080/",
          "height": 51
        },
        "outputId": "b5c87df9-d686-438e-e3ea-91ec4d44fd88"
      },
      "source": [
        "classification_error = (FP + FN) / float(TP + TN + FP + FN)\n",
        "\n",
        "print(classification_error)\n",
        "print(1 - metrics.accuracy_score(y_test, pred_churn))"
      ],
      "execution_count": 64,
      "outputs": [
        {
          "output_type": "stream",
          "text": [
            "0.2551068883610451\n",
            "0.2551068883610451\n"
          ],
          "name": "stdout"
        }
      ]
    },
    {
      "cell_type": "markdown",
      "metadata": {
        "id": "K41reJ5IC4ss",
        "colab_type": "text"
      },
      "source": [
        "**Sensitivity:** When the actual value is positive, how often is the prediction correct?\n",
        "\n",
        "Something we want to maximize\n",
        "How \"sensitive\" is the classifier to detecting positive instances?\n",
        "\n",
        "Also known as \"True Positive Rate\" or \"Recall\"\n",
        "TP / all positive\n",
        "all positive = TP + FN"
      ]
    },
    {
      "cell_type": "code",
      "metadata": {
        "id": "4FPBMRX2DEDW",
        "colab_type": "code",
        "colab": {
          "base_uri": "https://localhost:8080/",
          "height": 51
        },
        "outputId": "a30ce5a2-aac8-4406-967d-d5639c7e7139"
      },
      "source": [
        "sensitivity = TP / float(FN + TP)\n",
        "\n",
        "print(sensitivity)\n",
        "print(metrics.recall_score(y_test, pred_churn))"
      ],
      "execution_count": 65,
      "outputs": [
        {
          "output_type": "stream",
          "text": [
            "0.8144144144144144\n",
            "0.8144144144144144\n"
          ],
          "name": "stdout"
        }
      ]
    },
    {
      "cell_type": "markdown",
      "metadata": {
        "id": "xzqn0i-ADPDn",
        "colab_type": "text"
      },
      "source": [
        "**Specificity:** When the actual value is negative, how often is the prediction correct?\n",
        "\n",
        "Something we want to maximize\n",
        "\n",
        "How \"specific\" (or \"selective\") is the classifier in predicting positive instances?\n",
        "TN / all negative\n",
        "all negative = TN + FP"
      ]
    },
    {
      "cell_type": "code",
      "metadata": {
        "id": "56aX1BqVDU7a",
        "colab_type": "code",
        "colab": {
          "base_uri": "https://localhost:8080/",
          "height": 34
        },
        "outputId": "8cfe3a13-d34c-4cbc-95ea-34b9507e9f84"
      },
      "source": [
        "specificity = TN /float(TN + FP)\n",
        "\n",
        "print(specificity)"
      ],
      "execution_count": 67,
      "outputs": [
        {
          "output_type": "stream",
          "text": [
            "0.72\n"
          ],
          "name": "stdout"
        }
      ]
    },
    {
      "cell_type": "markdown",
      "metadata": {
        "id": "wEpvdBf0Ezap",
        "colab_type": "text"
      },
      "source": [
        "**False Positive Rate:** When the actual value is negative, how often is the prediction incorrect?\n",
        "\n"
      ]
    },
    {
      "cell_type": "code",
      "metadata": {
        "id": "Ljsd5DtkFIms",
        "colab_type": "code",
        "colab": {
          "base_uri": "https://localhost:8080/",
          "height": 51
        },
        "outputId": "6d37d793-3337-46bc-cd0a-e103fc5805e6"
      },
      "source": [
        "false_positive_rate = FP / float(TN + FP)\n",
        "\n",
        "print(false_positive_rate)\n",
        "print(1 - specificity)\n",
        "\n"
      ],
      "execution_count": 68,
      "outputs": [
        {
          "output_type": "stream",
          "text": [
            "0.28\n",
            "0.28\n"
          ],
          "name": "stdout"
        }
      ]
    },
    {
      "cell_type": "markdown",
      "metadata": {
        "id": "mwriAAC1FQMa",
        "colab_type": "text"
      },
      "source": [
        "Precision: When a positive value is predicted, how often is the prediction correct?\n",
        "\n",
        "How \"precise\" is the classifier when predicting positive instances?\n",
        "precision = TP / float(TP + FP)\n",
        "\n"
      ]
    },
    {
      "cell_type": "code",
      "metadata": {
        "id": "Ugh4zOQiFTL1",
        "colab_type": "code",
        "colab": {
          "base_uri": "https://localhost:8080/",
          "height": 51
        },
        "outputId": "4d8f7880-b5a0-499e-de00-8414e7d739d7"
      },
      "source": [
        "print(precision)\n",
        "print(metrics.precision_score(y_test, pred_churn))"
      ],
      "execution_count": 69,
      "outputs": [
        {
          "output_type": "stream",
          "text": [
            "0.510158013544018\n",
            "0.510158013544018\n"
          ],
          "name": "stdout"
        }
      ]
    },
    {
      "cell_type": "markdown",
      "metadata": {
        "id": "ogIcxFgdFgmH",
        "colab_type": "text"
      },
      "source": [
        "**Many other metrics can be computed: F1 score, Matthews correlation coefficient, etc**\n",
        "\n",
        "**Conclusion:**\n",
        "\n",
        "Confusion matrix gives you a more complete picture of how your classifier is performing\n",
        "Also allows you to compute various classification metrics, and these metrics can guide your model selection"
      ]
    },
    {
      "cell_type": "markdown",
      "metadata": {
        "id": "Id_uT81KGndU",
        "colab_type": "text"
      },
      "source": [
        "#### Which metrics should you focus on?\n",
        "\n",
        "Choice of metric depends on your business objective\n",
        "\n",
        "Identify if FP or FN is more important to reduce and \n",
        "Choose metric with relevant variable (FP or FN in the equation)\n",
        "\n",
        "Churn data (positive class is \"Yes\"):\n",
        "\n",
        "Optimize for precision or specificity\n",
        "\n",
        "precision\n",
        "\n",
        "false positive as variable\n",
        "\n",
        "specificity\n",
        "\n",
        "false positive as variable\n",
        "\n",
        "Because false negatives are more acceptable than false positives "
      ]
    },
    {
      "cell_type": "markdown",
      "metadata": {
        "id": "YUIm2wYbGxDj",
        "colab_type": "text"
      },
      "source": [
        "Adjusting the classification threshold"
      ]
    },
    {
      "cell_type": "code",
      "metadata": {
        "id": "sl0isre6G0p4",
        "colab_type": "code",
        "colab": {
          "base_uri": "https://localhost:8080/",
          "height": 34
        },
        "outputId": "f0112a27-f793-4c5f-9d70-7c621517ecf9"
      },
      "source": [
        "# print the first 10 predicted responses\n",
        "# 1D array (vector) of binary values (0, 1)\n",
        "reg.predict(x_test)[0:10]"
      ],
      "execution_count": 71,
      "outputs": [
        {
          "output_type": "execute_result",
          "data": {
            "text/plain": [
              "array([1, 1, 1, 1, 1, 0, 0, 0, 1, 0], dtype=uint8)"
            ]
          },
          "metadata": {
            "tags": []
          },
          "execution_count": 71
        }
      ]
    },
    {
      "cell_type": "code",
      "metadata": {
        "id": "2ra4GuXnHJpD",
        "colab_type": "code",
        "colab": {
          "base_uri": "https://localhost:8080/",
          "height": 187
        },
        "outputId": "c3066334-67c6-4c61-85c6-9926ed447b59"
      },
      "source": [
        "# print the first 10 predicted probabilities of class membership\n",
        "reg.predict_proba(x_test)[0:10]"
      ],
      "execution_count": 72,
      "outputs": [
        {
          "output_type": "execute_result",
          "data": {
            "text/plain": [
              "array([[0.41836449, 0.58163551],\n",
              "       [0.32557908, 0.67442092],\n",
              "       [0.1845488 , 0.8154512 ],\n",
              "       [0.32100994, 0.67899006],\n",
              "       [0.26217804, 0.73782196],\n",
              "       [0.67713126, 0.32286874],\n",
              "       [0.76906828, 0.23093172],\n",
              "       [0.85952119, 0.14047881],\n",
              "       [0.34773921, 0.65226079],\n",
              "       [0.96318084, 0.03681916]])"
            ]
          },
          "metadata": {
            "tags": []
          },
          "execution_count": 72
        }
      ]
    },
    {
      "cell_type": "markdown",
      "metadata": {
        "id": "t3_wGHxHHW4Q",
        "colab_type": "text"
      },
      "source": [
        "Row: observation\n",
        "\n",
        "Each row, numbers sum to 1\n",
        "\n",
        "Column: class\n",
        "2 response classes there 2 columns\n",
        "\n",
        "column 0: predicted probability that each observation is a member of class 0\n",
        "\n",
        "column 1: predicted probability that each observation is a member of class 1\n",
        "\n",
        "\n",
        "Importance of predicted probabilities\n",
        "\n",
        "We can rank observations by probability of churn\n",
        "\n",
        "\n",
        "Prioritize contacting those with a higher probability\n",
        "\n",
        "predict_proba process\n",
        "\n",
        "Predicts the probabilities\n",
        "\n",
        "Choose the class with the highest probability\n",
        "\n",
        "There is a 0.5 classification threshold\n",
        "\n",
        "Class 1 is predicted if probability > 0.5\n",
        "\n",
        "Class 0 is predicted if probability < 0.5\n"
      ]
    },
    {
      "cell_type": "code",
      "metadata": {
        "id": "Xqh5DxL1H8gn",
        "colab_type": "code",
        "colab": {
          "base_uri": "https://localhost:8080/",
          "height": 51
        },
        "outputId": "501c3e9b-3dfc-40fd-c276-04720d1fb779"
      },
      "source": [
        "# print the first 10 predicted probabilities for class 1\n",
        "reg.predict_proba(x_test)[0:10, 1]"
      ],
      "execution_count": 73,
      "outputs": [
        {
          "output_type": "execute_result",
          "data": {
            "text/plain": [
              "array([0.58163551, 0.67442092, 0.8154512 , 0.67899006, 0.73782196,\n",
              "       0.32286874, 0.23093172, 0.14047881, 0.65226079, 0.03681916])"
            ]
          },
          "metadata": {
            "tags": []
          },
          "execution_count": 73
        }
      ]
    },
    {
      "cell_type": "code",
      "metadata": {
        "id": "CRd_KhTEIZFd",
        "colab_type": "code",
        "colab": {}
      },
      "source": [
        "# store the predicted probabilities for class 1\n",
        "pred_churn_prob = reg.predict_proba(x_test)[:, 1]"
      ],
      "execution_count": 0,
      "outputs": []
    },
    {
      "cell_type": "code",
      "metadata": {
        "id": "5__EglxZIEqB",
        "colab_type": "code",
        "colab": {}
      },
      "source": [
        "# allow plots to appear in the notebook\n",
        "%matplotlib inline\n",
        "import matplotlib.pyplot as plt\n",
        "\n",
        "# adjust the font size \n",
        "plt.rcParams['font.size'] = 12"
      ],
      "execution_count": 0,
      "outputs": []
    },
    {
      "cell_type": "code",
      "metadata": {
        "id": "nSGCVZzFILeW",
        "colab_type": "code",
        "colab": {
          "base_uri": "https://localhost:8080/",
          "height": 319
        },
        "outputId": "f7a03212-8764-4cae-8e7f-78cbf9c49ea1"
      },
      "source": [
        "# histogram of predicted probabilities\n",
        "\n",
        "# 8 bins\n",
        "plt.hist(pred_churn_prob, bins=8)\n",
        "\n",
        "# x-axis limit from 0 to 1\n",
        "plt.xlim(0,1)\n",
        "plt.title('Histogram of predicted probabilities')\n",
        "plt.xlabel('Predicted probability of Churn')\n",
        "plt.ylabel('Frequency')"
      ],
      "execution_count": 77,
      "outputs": [
        {
          "output_type": "execute_result",
          "data": {
            "text/plain": [
              "Text(0, 0.5, 'Frequency')"
            ]
          },
          "metadata": {
            "tags": []
          },
          "execution_count": 77
        },
        {
          "output_type": "display_data",
          "data": {
            "image/png": "[encoded data removed]",
            "text/plain": [
              "<Figure size 432x288 with 1 Axes>"
            ]
          },
          "metadata": {
            "tags": [],
            "needs_background": "light"
          }
        }
      ]
    },
    {
      "cell_type": "markdown",
      "metadata": {
        "id": "mtBBQCi1LncF",
        "colab_type": "text"
      },
      "source": [
        "Receiver Operating Characteristic (ROC) Curves\n",
        "Question: Wouldn't it be nice if we could see how sensitivity and specificity are affected by various thresholds, without actually changing the threshold?\n",
        "\n",
        "Answer: Plot the ROC curve.\n",
        "\n",
        "Receiver Operating Characteristic (ROC)"
      ]
    },
    {
      "cell_type": "code",
      "metadata": {
        "id": "l6AuEOWiMDyh",
        "colab_type": "code",
        "colab": {
          "base_uri": "https://localhost:8080/",
          "height": 302
        },
        "outputId": "8ba0856a-598d-4587-cac5-6c9adabb9d04"
      },
      "source": [
        "#IMPORTANT: first argument is true values, second argument is predicted probabilities\n",
        "\n",
        "# we pass y_test and y_pred_prob\n",
        "# we do not use y_pred_class, because it will give incorrect results without generating an error\n",
        "# roc_curve returns 3 objects fpr, tpr, thresholds\n",
        "# fpr: false positive rate\n",
        "# tpr: true positive rate\n",
        "fpr, tpr, thresholds = metrics.roc_curve(y_test, pred_churn_prob)\n",
        "\n",
        "plt.plot(fpr, tpr)\n",
        "plt.xlim([0.0, 1.0])\n",
        "plt.ylim([0.0, 1.0])\n",
        "plt.rcParams['font.size'] = 12\n",
        "plt.title('ROC curve for churn classifier')\n",
        "plt.xlabel('False Positive Rate (1 - Specificity)')\n",
        "plt.ylabel('True Positive Rate (Sensitivity)')\n",
        "plt.grid(True)"
      ],
      "execution_count": 78,
      "outputs": [
        {
          "output_type": "display_data",
          "data": {
            "image/png": "[encoded data removed]",
            "text/plain": [
              "<Figure size 432x288 with 1 Axes>"
            ]
          },
          "metadata": {
            "tags": [],
            "needs_background": "light"
          }
        }
      ]
    },
    {
      "cell_type": "markdown",
      "metadata": {
        "id": "JIbBRuZ9MVxc",
        "colab_type": "text"
      },
      "source": [
        "ROC curve can help you to choose a threshold that balances sensitivity and specificity in a way that makes sense for your particular context\n",
        "\n",
        "You can't actually see the thresholds used to generate the curve on the ROC curve itself"
      ]
    },
    {
      "cell_type": "markdown",
      "metadata": {
        "id": "_47xdgvyMdmy",
        "colab_type": "text"
      },
      "source": [
        "AUC\n",
        "AUC is the percentage of the ROC plot that is underneath the curve:\n",
        "\n"
      ]
    },
    {
      "cell_type": "code",
      "metadata": {
        "id": "4oRZ4CIkMgsP",
        "colab_type": "code",
        "colab": {
          "base_uri": "https://localhost:8080/",
          "height": 34
        },
        "outputId": "6f7f95fe-b4c2-49a4-8db0-fe01e4f67242"
      },
      "source": [
        "# IMPORTANT: first argument is true values, second argument is predicted probabilities\n",
        "print(metrics.roc_auc_score(y_test, pred_churn_prob))"
      ],
      "execution_count": 79,
      "outputs": [
        {
          "output_type": "stream",
          "text": [
            "0.845785527462947\n"
          ],
          "name": "stdout"
        }
      ]
    },
    {
      "cell_type": "markdown",
      "metadata": {
        "id": "Yr6NJ49IMquT",
        "colab_type": "text"
      },
      "source": [
        "AUC is useful as a single number summary of classifier performance\n",
        "\n",
        "**Higher value = better classifier**\n",
        "\n",
        "If you randomly chose one positive and one negative observation, AUC represents the likelihood that your classifier will assign a higher predicted probability to the positive observation\n",
        "\n",
        "**AUC is useful even when there is high class imbalance (unlike classification accuracy)**\n"
      ]
    },
    {
      "cell_type": "code",
      "metadata": {
        "id": "hi7GxmXYNHeT",
        "colab_type": "code",
        "colab": {
          "base_uri": "https://localhost:8080/",
          "height": 34
        },
        "outputId": "b8c0d4ca-d237-4349-cdbf-34790b67d218"
      },
      "source": [
        "# calculate cross-validated AUC\n",
        "from sklearn.model_selection import cross_val_score\n",
        "cross_val_score(reg, feature_set, target, cv=10, scoring='roc_auc').mean()"
      ],
      "execution_count": 83,
      "outputs": [
        {
          "output_type": "execute_result",
          "data": {
            "text/plain": [
              "0.8364513589916764"
            ]
          },
          "metadata": {
            "tags": []
          },
          "execution_count": 83
        }
      ]
    },
    {
      "cell_type": "markdown",
      "metadata": {
        "id": "C7mcPZI2N5Wk",
        "colab_type": "text"
      },
      "source": [
        "Use both of these whenever possible\n",
        "\n",
        "Confusion matrix advantages:\n",
        "\n",
        "Allows you to calculate a variety of metrics\n",
        "\n",
        "Useful for multi-class problems (more than two response classes)\n",
        "\n",
        "ROC/AUC advantages:\n",
        "\n",
        "Does not require you to set a classification threshold\n",
        "\n",
        "Still useful when there is high class imbalance"
      ]
    }
  ]
}